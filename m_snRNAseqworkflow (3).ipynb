{
 "cells": [
  {
   "cell_type": "markdown",
   "id": "c701ab21-528b-4fd2-99f1-0210c5295417",
   "metadata": {},
   "source": [
    "# Mouse Cortex Workflow"
   ]
  },
  {
   "cell_type": "markdown",
   "id": "db841d69-efd2-410e-b9c8-2a83789a5eb5",
   "metadata": {},
   "source": [
    "## Imports"
   ]
  },
  {
   "cell_type": "code",
   "execution_count": null,
   "id": "a892bd74-173c-485a-a4a4-e27f0bc405b8",
   "metadata": {},
   "outputs": [],
   "source": [
    "# Note we cap the pandas version as cytocipher caps the seaborn version\n",
    " #!pip install seaborn scanpy cytocipher pandas==1.5.3 numpy matplotlib ipywidgets scipy gseapy snapatac2 scikit-optimize tabulate"
   ]
  },
  {
   "cell_type": "code",
   "execution_count": null,
   "id": "97507f7f-4f7d-42eb-ae66-cefa8b2858f3",
   "metadata": {
    "tags": []
   },
   "outputs": [],
   "source": [
    "from pathlib import Path\n",
    "from collections import Counter\n",
    "\n",
    "import numpy as np\n",
    "import pandas as pd\n",
    "import scanpy as sc\n",
    "import gseapy as gp\n",
    "import seaborn as sns\n",
    "import cytocipher as cc\n",
    "from matplotlib import pyplot as plt\n",
    "from matplotlib.lines import Line2D\n",
    "from scipy.stats import median_abs_deviation\n",
    "from sklearn.preprocessing import StandardScaler\n",
    "from sklearn.decomposition import PCA\n",
    "import snapatac2 as snap\n",
    "\n",
    "from skopt import gp_minimize\n",
    "from skopt.space import Integer, Real\n",
    "from sklearn.metrics import silhouette_score\n",
    "from tabulate import tabulate\n",
    "from scipy.stats import ttest_ind"
   ]
  },
  {
   "cell_type": "code",
   "execution_count": null,
   "id": "706455fc-5f4e-47e4-9658-359a7f7026c5",
   "metadata": {
    "tags": []
   },
   "outputs": [],
   "source": [
    "sc.settings.verbosity = 3  # log what scanpy does in the background\n",
    "sns.set_theme(\n",
    "    style=\"whitegrid\",\n",
    "    rc={\"figure.figsize\": (10, 8), \"patch.edgecolor\": \"black\"},\n",
    ")  # make our plots bigger, and style them with seaborn"
   ]
  },
  {
   "cell_type": "markdown",
   "id": "20db293b-4c16-41d2-a085-5d2e7ee5deb2",
   "metadata": {},
   "source": [
    "## Load Data"
   ]
  },
  {
   "cell_type": "code",
   "execution_count": null,
   "id": "30311bd7-93be-4dfa-98e1-2d6bd6822e6f",
   "metadata": {
    "tags": []
   },
   "outputs": [],
   "source": [
    "# Load our merged gene expression count data\n",
    "data = sc.read_h5ad(\"./gex.h5ad\")\n",
    "# See what data object looks like\n",
    "data"
   ]
  },
  {
   "cell_type": "markdown",
   "id": "61667428-902c-4abf-b9dc-24ebaa7f4d54",
   "metadata": {
    "tags": []
   },
   "source": [
    "## Pre-Processing (Quality Control)"
   ]
  },
  {
   "cell_type": "code",
   "execution_count": null,
   "id": "20f2a1d7-19c9-4250-b3ca-6a74a5546fd9",
   "metadata": {},
   "outputs": [],
   "source": [
    "# Convert AnnData observation DataFrame to a pandas DataFrame\n",
    "obs_df = data.obs\n",
    "\n",
    "# Rename the 'condition' column to 'genotype'\n",
    "obs_df.rename(columns={'condition': 'genotype'}, inplace=True)\n",
    "\n",
    "# Assign the updated observation DataFrame back to AnnData object\n",
    "data.obs = obs_df\n"
   ]
  },
  {
   "cell_type": "code",
   "execution_count": null,
   "id": "8e9e8a5f-7880-4699-9c66-69c0c214de53",
   "metadata": {
    "tags": []
   },
   "outputs": [],
   "source": [
    "# Calculate QC metrics \n",
    "droplet_metrics, gene_metrics = sc.pp.calculate_qc_metrics(\n",
    "    data, qc_vars=[\"mt\"], inplace=False\n",
    ")\n",
    "droplet_metrics[[\"sample\", \"age\", \"genotype\"]] = data.obs[[\"sample\", \"age\", \"genotype\"]]\n",
    "gene_metrics[\"mt\"] = data.var[\"mt\"]"
   ]
  },
  {
   "cell_type": "code",
   "execution_count": null,
   "id": "3eff166b-b17a-4741-a744-723befe21e5a",
   "metadata": {},
   "outputs": [],
   "source": [
    "# Create summary table of stats BEFORE pre-processing (but after AMULET and CellBender)\n",
    "# Change \"sample\" to \"age\" or \"condition\" if you want to group another way\n",
    "\n",
    "pre_qc_summary = (\n",
    "    droplet_metrics.assign(droplets=1)\n",
    "    .groupby(\"sample\")\n",
    "    .agg(\n",
    "        {\n",
    "            \"droplets\": \"sum\",\n",
    "            \"n_genes_by_counts\": np.median,\n",
    "            \"total_counts\": np.median,\n",
    "            \"pct_counts_mt\": np.median,\n",
    "        }\n",
    "    )\n",
    "    .rename(\n",
    "        {\n",
    "            \"n_genes_by_counts\": \"median_genes\",\n",
    "            \"total_counts\": \"median_transcripts\",\n",
    "            \"pct_counts_mt\": \"median_pct_transcripts_mt\",\n",
    "        },\n",
    "        axis=\"columns\",\n",
    "    )\n",
    ")\n",
    "pre_qc_summary"
   ]
  },
  {
   "cell_type": "markdown",
   "id": "60008f4b-cae3-44ec-b268-ff5471411c54",
   "metadata": {},
   "source": [
    "When plotting with `\"sample\"` grouping, we may note:\n",
    "- `E18_Con_1` has a massively larger droplet count.\n",
    "- `E18_Con_1` has a much lower number of unique genes (less than half that of all others).\n",
    "- `E18_Con_1` has a much lower number of transcripts (about half that of the next lowest).\n",
    "- `E18_Con_2` has an unnusually high mitochondrial percentage.\n",
    "- `E14` has lower mitochondrial count percentage compared to all `E18` samples."
   ]
  },
  {
   "cell_type": "code",
   "execution_count": null,
   "id": "1dd4afec-667b-4533-ad99-10933a72317a",
   "metadata": {},
   "outputs": [],
   "source": [
    "sns.jointplot(\n",
    "    data=droplet_metrics,\n",
    "    x=\"log1p_total_counts\",\n",
    "    y=\"log1p_n_genes_by_counts\",\n",
    "    kind=\"hex\",\n",
    ")"
   ]
  },
  {
   "cell_type": "markdown",
   "id": "0348d2ca-5433-4ec2-a62c-e64e8bb4ca80",
   "metadata": {},
   "source": [
    "We may note a skew to lower gene counts, and a cluster of droplets with absolutely no transcripts/genes.\n",
    "There is a slight arc to the hex plot."
   ]
  },
  {
   "cell_type": "code",
   "execution_count": null,
   "id": "bdba3704-1d83-4a90-82bc-8d6200a298e4",
   "metadata": {
    "scrolled": true
   },
   "outputs": [],
   "source": [
    "# Plot out our QC metrics\n",
    "group_by = (\n",
    "    \"sample\"  # change to \"sample\", \"condition\", or \"age\" to group, None to plot summary\n",
    ")\n",
    "for feature in [\"n_genes_by_counts\", \"total_counts\", \"pct_counts_mt\"]:\n",
    "    sns.violinplot(data=droplet_metrics, y=feature, x=group_by)\n",
    "    sns.stripplot(\n",
    "        data=droplet_metrics, y=feature, x=group_by, s=0.5, color=\"black\", jitter=0.4\n",
    "    )\n",
    "    plt.show()"
   ]
  },
  {
   "cell_type": "markdown",
   "id": "75210f0c-c7e5-4ba2-bf60-5691af80d527",
   "metadata": {},
   "source": [
    "When grouping by `\"source\"`, we may note that `E18_Con_1` has a very skewed distribution compared to the other samples, and an unusually long `pct_counts_mt` tail."
   ]
  },
  {
   "cell_type": "code",
   "execution_count": null,
   "id": "a5802198-b27f-41d7-bf77-bd8494cd70a4",
   "metadata": {},
   "outputs": [],
   "source": [
    "sns.jointplot(\n",
    "    data=droplet_metrics,\n",
    "    x=\"log1p_total_counts\",\n",
    "    y=\"log1p_n_genes_by_counts\",\n",
    "    hue=\"sample\",\n",
    ")"
   ]
  },
  {
   "cell_type": "markdown",
   "id": "fcdc85a1-1d01-45f2-88ce-5131bc998c84",
   "metadata": {},
   "source": [
    "If we split the prior plot by source, we may observe `E18_Con_1` is responsible for much of the skew."
   ]
  },
  {
   "cell_type": "code",
   "execution_count": null,
   "id": "d6779b30-ecb3-4d87-99ea-6273454bc6dc",
   "metadata": {
    "tags": []
   },
   "outputs": [],
   "source": [
    "# We now use median absolution deviations to identify outlier droplets using our QC metrics.\n",
    "# We do this per sample, as the prior plots show `E18_Con_1` skews heavily and we want to avoid it influencing other samples.\n",
    "\n",
    "\n",
    "def is_outlier(metric_values, nmads: int = 3):\n",
    "    # Helper to identify outliers using median absolute deviations (MAD)\n",
    "    return (\n",
    "        metric_values\n",
    "        < np.median(metric_values) - nmads * median_abs_deviation(metric_values)\n",
    "    ) | (\n",
    "        np.median(metric_values) + nmads * median_abs_deviation(metric_values)\n",
    "        < metric_values\n",
    "    )\n",
    "\n",
    "\n",
    "# For each sample, mark droplets with:\n",
    "# - transcript or gene counts more than 5 MAD away,\n",
    "# - a percentage of mitochondrial counts more than 3 MAD away or over 8%.\n",
    "droplet_metrics[\"outlier\"] = (\n",
    "    droplet_metrics.groupby(\"sample\")\n",
    "    .apply(\n",
    "        lambda x: (\n",
    "            is_outlier(x[\"log1p_total_counts\"], 5)\n",
    "            | is_outlier(x[\"log1p_n_genes_by_counts\"], 5)\n",
    "            | is_outlier(x[\"pct_counts_mt\"], 3)\n",
    "            | (x[\"pct_counts_mt\"] > 8)\n",
    "        )\n",
    "    )\n",
    "    .reset_index(level=0, drop=True)\n",
    ")\n",
    "\n",
    "sns.jointplot(\n",
    "    data=droplet_metrics,\n",
    "    x=\"log1p_total_counts\",\n",
    "    y=\"log1p_n_genes_by_counts\",\n",
    "    hue=\"outlier\",\n",
    ")"
   ]
  },
  {
   "cell_type": "markdown",
   "id": "f9e3ba39-6008-403b-af1b-e8a108f227ba",
   "metadata": {},
   "source": [
    "This appears to truncate the tails relatively successfully, though we note a slight skew remains in the gene counts."
   ]
  },
  {
   "cell_type": "code",
   "execution_count": null,
   "id": "2ce71e7a-5b4c-42a1-9602-04de75292e61",
   "metadata": {},
   "outputs": [],
   "source": [
    "sns.jointplot(\n",
    "    data=droplet_metrics[~droplet_metrics[\"outlier\"]],\n",
    "    x=\"log1p_total_counts\",\n",
    "    y=\"log1p_n_genes_by_counts\",\n",
    "    hue=\"sample\",\n",
    ")"
   ]
  },
  {
   "cell_type": "markdown",
   "id": "bd73f556-a9bd-42a1-9820-5cfcc81d1b14",
   "metadata": {},
   "source": [
    "We may verify this is skew is due to `E18_Con_1`."
   ]
  },
  {
   "cell_type": "code",
   "execution_count": null,
   "id": "c1a3c156-6f34-4882-afdb-085573bf7fb4",
   "metadata": {},
   "outputs": [],
   "source": [
    "# Now we recalculate the summary table with our outliers excluded\n",
    "post_qc_summary = (\n",
    "    droplet_metrics[~droplet_metrics[\"outlier\"]]\n",
    "    .assign(droplets=1)\n",
    "    .groupby(\"sample\")\n",
    "    .agg(\n",
    "        {\n",
    "            \"droplets\": \"sum\",\n",
    "            \"n_genes_by_counts\": np.median,\n",
    "            \"total_counts\": np.median,\n",
    "            \"pct_counts_mt\": np.median,\n",
    "        }\n",
    "    )\n",
    "    .rename(\n",
    "        {\n",
    "            \"n_genes_by_counts\": \"median_genes\",\n",
    "            \"total_counts\": \"median_transcripts\",\n",
    "            \"pct_counts_mt\": \"median_pct_transcripts_mt\",\n",
    "        },\n",
    "        axis=\"columns\",\n",
    "    )\n",
    ")\n",
    "post_qc_summary"
   ]
  },
  {
   "cell_type": "code",
   "execution_count": null,
   "id": "60437299-0bbd-4499-ba34-404cd4dc3b60",
   "metadata": {},
   "outputs": [],
   "source": [
    "# And use this to find the overall change\n",
    "post_qc_summary - pre_qc_summary"
   ]
  },
  {
   "cell_type": "markdown",
   "id": "e06ec90d-501d-45d7-937b-edc76704eba2",
   "metadata": {},
   "source": [
    "We can see if we do apply this outlier filtering, `E18_Con_1` improves, but not sufficiently.\n",
    "We may note that as we use MAD for outlier detection per sample, the skew in `E18_Con_1` will thus extend the MAD and so it has weaker thresholds."
   ]
  },
  {
   "cell_type": "code",
   "execution_count": null,
   "id": "06ada992-238d-4665-ae21-102f930e3efb",
   "metadata": {},
   "outputs": [],
   "source": [
    "# We now exclude the outlier droplets, plus mitochondrial genes.\n",
    "# It is likely that including `E18_Con_1` will skew further processing, so we also exclude that.\n",
    "# WARN: Should we be dropping mitochondrial genes?\n",
    "data = data[\n",
    "    ~droplet_metrics[\"outlier\"] & (data.obs[\"sample\"] != \"E18_Con_1\"), ~data.var[\"mt\"]\n",
    "].copy()\n",
    "data"
   ]
  },
  {
   "cell_type": "code",
   "execution_count": null,
   "id": "0859dc6e-d41a-4300-9657-0268f68a5fde",
   "metadata": {
    "tags": []
   },
   "outputs": [],
   "source": [
    "# Normalise transcript counts to median, to correct for varied library size.\n",
    "data.layers[\"norm_10k\"] = data.X.copy()\n",
    "sc.pp.normalize_total(data, target_sum=1e4, layer=\"norm_10k\")\n",
    "sc.pp.normalize_total(data)"
   ]
  },
  {
   "cell_type": "code",
   "execution_count": null,
   "id": "4ed6e04e-d2bf-4c31-a483-298450698108",
   "metadata": {
    "tags": []
   },
   "outputs": [],
   "source": [
    "sc.pp.log1p(data)\n",
    "sc.pp.log1p(data, layer=\"raw\")"
   ]
  },
  {
   "cell_type": "markdown",
   "id": "a6adcdce-c65d-4228-9fce-612fafe42efb",
   "metadata": {},
   "source": [
    "## Exploration"
   ]
  },
  {
   "cell_type": "code",
   "execution_count": null,
   "id": "763dfd53-a479-4017-841e-d15f4b9718fb",
   "metadata": {},
   "outputs": [],
   "source": [
    "# Plot the highest expressed genes per sample\n",
    "for sample_tag in data.obs[\"sample\"].unique():\n",
    "    subset_data = data[data.obs[\"sample\"] == sample_tag]\n",
    "    sc.pl.highest_expr_genes(subset_data, n_top=20, show=False).set(title=sample_tag)"
   ]
  },
  {
   "cell_type": "code",
   "execution_count": null,
   "id": "7cf19afd-6272-4542-a329-e1ceca0eaa18",
   "metadata": {},
   "outputs": [],
   "source": [
    "# Plot the highest expressed genes per genotype\n",
    "for sample_tag in data.obs[\"genotype\"].unique():\n",
    "    subset_data = data[data.obs[\"genotype\"] == sample_tag]\n",
    "    sc.pl.highest_expr_genes(subset_data, n_top=20, show=False).set(title=sample_tag)"
   ]
  },
  {
   "cell_type": "markdown",
   "id": "c283c666-741a-40e9-a0b2-d4ff158a83f0",
   "metadata": {},
   "source": [
    "## Clustering"
   ]
  },
  {
   "cell_type": "code",
   "execution_count": null,
   "id": "28e74e6e-893b-4e4b-b837-ebf8b34814f0",
   "metadata": {
    "tags": []
   },
   "outputs": [],
   "source": [
    "# Here we just tune `min_mean` to ensure 0-mean-expression genes aren't included\n",
    "sc.pp.highly_variable_genes(data, min_mean=0.0125)\n",
    "# sc.pp.highly_variable_genes(data, min_mean=0.1, max_mean=0.8, min_disp=1) - this looks like the seurat details?\n",
    "# Why do we have some negative dispersion?\n",
    "sc.pl.highly_variable_genes(data)"
   ]
  },
  {
   "cell_type": "code",
   "execution_count": null,
   "id": "73bc75c9-1e42-4dc2-9446-39c753cc0090",
   "metadata": {},
   "outputs": [],
   "source": [
    "# We expect about 2000-3000 genes\n",
    "data.var.highly_variable.sum()"
   ]
  },
  {
   "cell_type": "markdown",
   "id": "70064ddd-7d9b-4b35-9537-28f2d1c0626c",
   "metadata": {},
   "source": [
    "<div class=\"alert alert-block alert-danger\">\n",
    "The following section on PCA and MP is not included in the final workflow, as we opted to use spectral dimensionality reduction instead.\n",
    "</div>"
   ]
  },
  {
   "cell_type": "markdown",
   "id": "11cce8aa-1234-454a-8d2e-150a5057fd2c",
   "metadata": {},
   "source": [
    "We now manually perform PCA:\n",
    "1. We use the subset of highly variable genes, matching the `scanpy` PCA implementation;\n",
    "2. We scale the expression matrix to unit variance and zero mean per gene, which ensures equal contribution to principle components;\n",
    "3. We densify the subset matrix."
   ]
  },
  {
   "cell_type": "code",
   "execution_count": null,
   "id": "69633b6d-c3a2-484e-bc82-444e9f5e10f7",
   "metadata": {},
   "outputs": [],
   "source": [
    "# scaled_subset_gex = StandardScaler().fit_transform(\n",
    "#     data.X[:, data.var[\"highly_variable\"]].T.A\n",
    "# ).T\n",
    "\n",
    "# # Is this consistent to Seurat?"
   ]
  },
  {
   "cell_type": "code",
   "execution_count": null,
   "id": "ea5dfa0d-97bf-432f-94b7-349c9137359b",
   "metadata": {
    "tags": []
   },
   "outputs": [],
   "source": [
    "# # Use principle component analysis for dimensionality reduction (only first 100 components)\n",
    "# pca = PCA(svd_solver=\"arpack\", n_components=100)\n",
    "# pca.fit(scaled_subset_gex)\n",
    "\n",
    "# fig, ax = plt.subplots()\n",
    "# ax.plot(np.log(pca.explained_variance_ratio_))\n",
    "# ax.set_ylabel(\"Explained Variance\")\n",
    "# ax.set_xlabel(\"Principle Component\")\n",
    "\n",
    "# plt.show()"
   ]
  },
  {
   "cell_type": "markdown",
   "id": "8d8f3719-31dd-4523-9f2f-867d42614b89",
   "metadata": {},
   "source": [
    "Traditional PCA would now select the top-N principle components to truncate to, however this relies on manual interpretation of the above plot.  \n",
    "Specifically, we would need to locate the \"elbow\" (which falls between 30-50 for the above plot, as it's in log-scale).\n",
    "\n",
    "We may better select this threshold by examining the distribution of eigenvalues in a permutation test per Marchenko Pastur law:\n",
    "1. We calculate the explained variance (eigenvalues) of our data.\n",
    "2. We recalculate the eigenvalues for many permutations of the data.\n",
    "3. We estimate the distributions of our eigenvalues to find the threshold in significance.\n",
    "\n",
    "Specifically, we may calculate the upper and lower bounds corresponding to the null distribution of eigenvalues:\n",
    "$$\n",
    "\\lambda_{\\pm} = \\sigma^2 {(1\\pm\\sqrt{\\mu})}^2 = {(1\\pm\\sqrt{\\mu})}^2\n",
    "$$\n",
    "and then the PDF of eigenvalues:\n",
    "$$\n",
    "\\text{PDF}(\\lambda) = \\frac{1}{2\\pi\\sigma^2} \\frac{\\sqrt{(\\lambda_+-\\lambda)(\\lambda-\\lambda_-)}}{\\lambda\\mu} = \\frac{1}{2\\pi} \\frac{\\sqrt{(\\lambda_+-\\lambda)(\\lambda-\\lambda_-)}}{\\lambda\\mu}\n",
    "$$\n",
    "where $\\mu$ represents the ratio of matrix shape, and $\\sigma$ is the variance (unit hence the simplified forms above)."
   ]
  },
  {
   "cell_type": "code",
   "execution_count": null,
   "id": "6e4f3d73-85cb-4358-9847-8264bc1a5da9",
   "metadata": {},
   "outputs": [],
   "source": [
    "# # This process is offloaded to HPC, as we need ~1000 permutations.\n",
    "# np.save(\"./gex_matrix.npy\", scaled_subset_gex)"
   ]
  },
  {
   "cell_type": "code",
   "execution_count": null,
   "id": "d8dc3ce5-8467-4da8-9130-1bd3fdb4d9cc",
   "metadata": {},
   "outputs": [],
   "source": [
    "# Now we load the sampled eigenvalues (from the permutation code).\n",
    "#bg_evs = np.load(\"sampled_evs.npy\")"
   ]
  },
  {
   "cell_type": "code",
   "execution_count": null,
   "id": "e8ad508a-e66e-4a4e-a18b-bb2be2aa7419",
   "metadata": {},
   "outputs": [],
   "source": [
    "# # We calculate the theoretical upper and lower bounds for eigenvalues of the null per MP law.\n",
    "# num_droplets, num_genes = scaled_subset_gex.shape\n",
    "# mu = num_genes / num_droplets\n",
    "# mp_upper = (1 + np.sqrt(mu)) ** 2\n",
    "# mp_lower = (1 - np.sqrt(mu)) ** 2\n",
    "# mp_lower, mp_upper"
   ]
  },
  {
   "cell_type": "code",
   "execution_count": null,
   "id": "f33a8971-dad3-41b8-a52d-5e4ba78c9143",
   "metadata": {},
   "outputs": [],
   "source": [
    "# # We may plot this PDF\n",
    "# mp_xs = np.linspace(mp_lower, mp_upper, 1000)\n",
    "# mp_ys = np.sqrt((mp_upper - mp_xs)*(mp_xs - mp_lower)) / (2 * np.pi * mp_xs * mu)\n",
    "\n",
    "# fig, ax = plt.subplots(figsize=(12,4))\n",
    "# ax.plot(mp_xs, mp_ys)\n",
    "\n",
    "# for ev in pca.explained_variance_:\n",
    "#     if ev > mp_upper:\n",
    "#         ax.arrow(\n",
    "#             ev,\n",
    "#             0.2,\n",
    "#             0,\n",
    "#             -0.2,\n",
    "#             width=0.1,\n",
    "#             head_width=1,\n",
    "#             head_length=0.1,\n",
    "#             length_includes_head=True,\n",
    "#             color=\"red\",\n",
    "#         )\n",
    "\n",
    "# plt.show()"
   ]
  },
  {
   "cell_type": "code",
   "execution_count": null,
   "id": "4b0a9889-098c-4441-8524-1a9f8ad10ae3",
   "metadata": {},
   "outputs": [],
   "source": [
    "# fig, ax = plt.subplots()\n",
    "# ax.plot(bg_evs.T, color=\"blue\", alpha=0.01)\n",
    "# ax.plot(pca.explained_variance_, color=\"black\", linestyle=\"dashed\")\n",
    "# ax.plot(mp_xs, mp_ys)\n",
    "# ax.legend(\n",
    "#     [\n",
    "#         Line2D([], [], color=\"blue\"),\n",
    "#         Line2D([], [], color=\"black\", linestyle=\"dashed\")\n",
    "#     ],\n",
    "#     [\"samples\", \"truth\"],\n",
    "# )\n",
    "# plt.show()"
   ]
  },
  {
   "cell_type": "code",
   "execution_count": null,
   "id": "f7dd02b3-1ec6-4393-bd56-f53a66fcacbd",
   "metadata": {},
   "outputs": [],
   "source": [
    "# optimal_pcs = 50 # run PCA permutation test on Bunya and set this as that result."
   ]
  },
  {
   "cell_type": "code",
   "execution_count": null,
   "id": "73027f4a-b7a9-43c7-9a0b-f0237e8f9f0b",
   "metadata": {
    "tags": []
   },
   "outputs": [],
   "source": [
    "# sc.tl.pca(data, n_comps=optimal_pcs)\n",
    "# sc.pl.pca(data)"
   ]
  },
  {
   "cell_type": "markdown",
   "id": "45622e54-88b4-45e9-b30f-33d3c1f82934",
   "metadata": {},
   "source": [
    "It is worth noting that the application of PCA in single-cell analysis (and biology in general) is under some scrutiny.\n",
    "This type of data violates many of the assumptions of PCA - see [10.1073/pnas.2311420120](https://www.pnas.org/doi/10.1073/pnas.2311420120).\n",
    "We observe such an artifact in the curve of data across PC1 and PC2.\n",
    "\n",
    "We did attempt constructing a neighbourhood graph on the raw data, but this gave poor clustering and blobby projections in UMAP.\n",
    "As such, we instead use PCA but utilise the aforementioned permutation test to attempt to achieve a balance in approach."
   ]
  },
  {
   "cell_type": "code",
   "execution_count": null,
   "id": "ff2b72de-24ec-4f30-b9d2-48aef0dd397a",
   "metadata": {},
   "outputs": [],
   "source": [
    "# sc.pp.neighbors(data, n_pcs=optimal_pcs)\n",
    "# sc.tl.umap(data)"
   ]
  },
  {
   "cell_type": "markdown",
   "id": "c91b4d0d-3c5f-41ee-92a3-12080736af19",
   "metadata": {},
   "source": [
    "<div class=\"alert alert-block alert-danger\">\n",
    "Here concludes the PCA section - we should now include the spectral dimensionality reduction etc\n",
    "</div>"
   ]
  },
  {
   "cell_type": "markdown",
   "id": "98c23154-113e-4ced-8518-a890a7255b7c",
   "metadata": {},
   "source": [
    "## Spectral analysis"
   ]
  },
  {
   "cell_type": "markdown",
   "id": "b9ede3ce-e838-43f8-9fbe-1a30be8b5480",
   "metadata": {},
   "source": [
    "### DR on HVG and inital over-clustering visualisation"
   ]
  },
  {
   "cell_type": "code",
   "execution_count": null,
   "id": "5c426ad0-24ef-41e6-8c1e-47d7430f17a5",
   "metadata": {},
   "outputs": [],
   "source": [
    "data.obsm.keys()"
   ]
  },
  {
   "cell_type": "code",
   "execution_count": null,
   "id": "38553c50-59d0-4b55-9fbf-6abff43e8297",
   "metadata": {},
   "outputs": [],
   "source": [
    "snap.tl.spectral(data, features=data.var.highly_variable)"
   ]
  },
  {
   "cell_type": "code",
   "execution_count": null,
   "id": "c7938c6d-f37f-4d47-ac07-d3fffed4aa42",
   "metadata": {},
   "outputs": [],
   "source": [
    "snap.tl.umap(data)"
   ]
  },
  {
   "cell_type": "code",
   "execution_count": null,
   "id": "03ded476-1f5e-4e33-9217-287ff7bdfdac",
   "metadata": {},
   "outputs": [],
   "source": [
    "# # Optimisation of leiden resolution and K for KNN graph\n",
    "\n",
    "# #K = 81, leiden resolution = 0.85, n_genes = 14, enrichment method of \"code\" --> these values are associated with cytocipher, which is now deleted. \n",
    "\n",
    "# expected_clusters = 22 # Number of expected biological cell-types/clusters based off of those present in literature \n",
    "\n",
    "# def objective_function(params):\n",
    "#     k, resolution_parameter = params\n",
    "\n",
    "#     # Preprocessing: Update based on your dataset's needs\n",
    "#     sc.pp.neighbors(data, n_neighbors=k, use_rep='X_spectral', metric='cosine')\n",
    "#     sc.tl.leiden(data, resolution=resolution_parameter, n_iterations=-1) #flavor='igraph' \n",
    "\n",
    "#     # Compute silhouette score: Adjust 'metric' as needed\n",
    "#     labels = data.obs['leiden'].astype(int)\n",
    "\n",
    "#     silhouette = silhouette_score(data.obsm['X_spectral'], labels, metric='cosine')\n",
    "\n",
    "#     # Calculate deviation from expected clusters\n",
    "#     n_clusters = len(np.unique(labels))\n",
    "#     cluster_deviation_penalty = abs(n_clusters - expected_clusters) / expected_clusters\n",
    "\n",
    "#     objective_value = silhouette - cluster_deviation_penalty  # Higher silhouette is better, penalties for deviation\n",
    "\n",
    "#     return -objective_value  # Minimize this value, hence the negative sign\n",
    "\n",
    "\n",
    "# # Ranges for each param\n",
    "# space = [\n",
    "#     Integer(50, 120, name='k'), \n",
    "#     Real(0.4, 2.0, name='resolution_parameter'), \n",
    "# ]\n",
    "\n",
    "# # Run the Bayesian optimizer\n",
    "# result = gp_minimize(objective_function, space, n_calls=20, acq_func=\"EI\", random_state=0)\n",
    "\n",
    "# # Extract the best parameters\n",
    "# best_k, best_resolution_parameter = result.x\n",
    "\n",
    "# print(f\"Optimal k: {best_k}, Optimal Resolution: {best_resolution_parameter}\")\n",
    "\n",
    "# #Optimal k: 91, Optimal Resolution: 1.750825197729628"
   ]
  },
  {
   "cell_type": "code",
   "execution_count": null,
   "id": "f85f8f93-aa13-442a-a3a0-8052c935df3d",
   "metadata": {},
   "outputs": [],
   "source": [
    "# Use outputted values from the iterative cluster refinement: \n",
    "# Use these values: Optimal k: 104, Optimal Resolution: 0.6547701310692625\n",
    "#snap.pp.knn(data, n_neighbors=91)\n",
    "sc.pp.neighbors(data, n_neighbors=104, use_rep='X_spectral', metric='cosine')"
   ]
  },
  {
   "cell_type": "code",
   "execution_count": null,
   "id": "9c92752a-58a0-4965-bcbc-bfd8ad769984",
   "metadata": {},
   "outputs": [],
   "source": [
    "sc.tl.leiden(data, resolution=0.6547701310692625)"
   ]
  },
  {
   "cell_type": "code",
   "execution_count": null,
   "id": "9a2b5086-01ce-4a79-8dda-6d3a96d72d43",
   "metadata": {},
   "outputs": [],
   "source": [
    "sc.tl.umap(data)"
   ]
  },
  {
   "cell_type": "code",
   "execution_count": null,
   "id": "49cb9857-7cf4-434b-9835-f94e1ed9ec71",
   "metadata": {},
   "outputs": [],
   "source": [
    "# Save the leiden clustering + umap \n",
    "data.write(\"clustered_gex.h5ad\")"
   ]
  },
  {
   "cell_type": "markdown",
   "id": "66a4d1e3-be37-4249-8a5a-3bc8fd15fba0",
   "metadata": {},
   "source": [
    "### Re-load pre-processed & clustered data"
   ]
  },
  {
   "cell_type": "code",
   "execution_count": null,
   "id": "ce8c504d-a200-4173-8e3c-35528013672b",
   "metadata": {},
   "outputs": [],
   "source": [
    "from pathlib import Path\n",
    "from collections import Counter\n",
    "\n",
    "import numpy as np\n",
    "import pandas as pd\n",
    "import scanpy as sc\n",
    "import gseapy as gp\n",
    "import seaborn as sns\n",
    "import cytocipher as cc\n",
    "from matplotlib import pyplot as plt\n",
    "from matplotlib.lines import Line2D\n",
    "from scipy.stats import median_abs_deviation\n",
    "from sklearn.preprocessing import StandardScaler\n",
    "from sklearn.decomposition import PCA\n",
    "import snapatac2 as snap\n",
    "\n",
    "from skopt import gp_minimize\n",
    "from skopt.space import Integer, Real\n",
    "from sklearn.metrics import silhouette_score\n",
    "from tabulate import tabulate\n",
    "#import snapatac2 as snap"
   ]
  },
  {
   "cell_type": "code",
   "execution_count": null,
   "id": "af42a078-e075-49aa-b8b5-9933ea37bc86",
   "metadata": {},
   "outputs": [],
   "source": [
    "# Load our merged gene expression count data that has been pre-processed and clustered \n",
    "# Run from this cell from now on \n",
    "data = sc.read_h5ad(\"clustered_gex.h5ad\")"
   ]
  },
  {
   "cell_type": "code",
   "execution_count": null,
   "id": "bbae29a9-24b4-454c-b7cf-50b095b495f9",
   "metadata": {},
   "outputs": [],
   "source": [
    "# Convert AnnData observation DataFrame to a pandas DataFrame\n",
    "obs_df = data.obs\n",
    "\n",
    "# Rename the 'condition' column to 'genotype'\n",
    "obs_df.rename(columns={'condition': 'genotype'}, inplace=True)\n",
    "\n",
    "# Assign the updated observation DataFrame back to AnnData object\n",
    "data.obs = obs_df\n"
   ]
  },
  {
   "cell_type": "code",
   "execution_count": null,
   "id": "7f9dbb6d-5c6c-46ed-b09f-2f15902aae82",
   "metadata": {},
   "outputs": [],
   "source": [
    "# Plot UMAP with custom colormaps for conditions - scanpy \n",
    "sc.pl.umap(data, color=[\"leiden\",'sample', 'age', 'genotype'],ncols=2, wspace=0.4)"
   ]
  },
  {
   "cell_type": "code",
   "execution_count": null,
   "id": "99d95c54-585f-4c92-b753-cbe55152877e",
   "metadata": {},
   "outputs": [],
   "source": [
    "# # Plot UMAP with custom colormaps for conditions - snapatac\n",
    "# for color in [\"sample\", \"leiden\",\"age\", \"genotype\"]:\n",
    "#     snap.pl.umap(data, color=color, width=800, height=650, scale=0.5)"
   ]
  },
  {
   "cell_type": "markdown",
   "id": "0e770c79-e85f-4129-a689-f8e553b97634",
   "metadata": {
    "jp-MarkdownHeadingCollapsed": true
   },
   "source": [
    "### Differential expression analysis"
   ]
  },
  {
   "cell_type": "code",
   "execution_count": null,
   "id": "83ada99e-da99-48a2-81e2-6edad5ff1e4d",
   "metadata": {},
   "outputs": [],
   "source": [
    "#Perform differential expression analysis on CON VS. HOM\n",
    "sc.tl.rank_genes_groups(data, groupby='genotype', method='wilcoxon')"
   ]
  },
  {
   "cell_type": "code",
   "execution_count": null,
   "id": "17e38428-65ce-44d9-9d5c-72aa2546e9b1",
   "metadata": {},
   "outputs": [],
   "source": [
    "# Retrieve the differential expression analysis result\n",
    "result = data.uns['rank_genes_groups']\n",
    "\n",
    "# Extract the group names for Con and Hom conditions from data.obs\n",
    "con_condition = 'Con'\n",
    "hom_condition = 'Hom'\n",
    "\n",
    "# Filter genes for Con condition with p-value > 0.05 and showing log fold change\n",
    "con_filtered_genes = pd.DataFrame({\n",
    "    'Gene': result['names'][f'{con_condition}'][:20],  # Top 10 genes\n",
    "    'p-value': result['pvals'][f'{con_condition}'][:20],\n",
    "    'logFC': result['logfoldchanges'][f'{con_condition}'][:20]\n",
    "})\n",
    "\n",
    "# Filter genes for Hom condition with p-value > 0.05 and showing log fold change\n",
    "hom_filtered_genes = pd.DataFrame({\n",
    "    'Gene': result['names'][f'{hom_condition}'][:20],  # Top 10 genes\n",
    "    'p-value': result['pvals'][f'{hom_condition}'][:20],\n",
    "    'logFC': result['logfoldchanges'][f'{hom_condition}'][:20]\n",
    "})\n",
    "\n",
    "# Display the top 10 differentially expressed genes for Con condition\n",
    "print(\"Top 10 differentially expressed genes for Con condition:\")\n",
    "print(con_filtered_genes)\n",
    "\n",
    "# Display the top 10 differentially expressed genes for Hom condition\n",
    "print(\"\\nTop 10 differentially expressed genes for Hom condition:\")\n",
    "print(hom_filtered_genes)"
   ]
  },
  {
   "cell_type": "code",
   "execution_count": null,
   "id": "0defa19a-5490-414a-809c-2d8f1b8d0db9",
   "metadata": {},
   "outputs": [],
   "source": [
    "# Filter genes for Con condition with p-value > 0.05 and showing log fold change\n",
    "con_filtered_genes = pd.DataFrame({\n",
    "    'Gene': result['names'][con_condition][:10],  # Top 10 genes\n",
    "    'p-value': result['pvals'][con_condition][:10],\n",
    "    'logFC': result['logfoldchanges'][con_condition][:10]\n",
    "})\n",
    "\n",
    "# Filter genes for Hom condition with p-value > 0.05 and showing log fold change\n",
    "hom_filtered_genes = pd.DataFrame({\n",
    "    'Gene': result['names'][hom_condition][:10],  # Top 10 genes\n",
    "    'p-value': result['pvals'][hom_condition][:10],\n",
    "    'logFC': result['logfoldchanges'][hom_condition][:10]\n",
    "})\n",
    "\n",
    "# Filter genes with p-values greater than 0.05\n",
    "con_filtered_genes = con_filtered_genes[con_filtered_genes['p-value'] > 0.05]\n",
    "hom_filtered_genes = hom_filtered_genes[hom_filtered_genes['p-value'] > 0.05]\n",
    "\n",
    "# Display the top 10 differentially expressed genes for Con condition\n",
    "print(\"Top 10 differentially expressed genes for Con condition:\")\n",
    "print(con_filtered_genes)\n",
    "\n",
    "# Display the top 10 differentially expressed genes for Hom condition\n",
    "print(\"\\nTop 10 differentially expressed genes for Hom condition:\")\n",
    "print(hom_filtered_genes)\n"
   ]
  },
  {
   "cell_type": "code",
   "execution_count": null,
   "id": "9fbb281d-0e33-4215-b3c1-7e81358fe2fa",
   "metadata": {},
   "outputs": [],
   "source": [
    "# Create separate volcano plots for Con and Hom conditions\n",
    "for condition, filtered_genes in zip(['Con', 'Hom'], [con_filtered_genes, hom_filtered_genes]):\n",
    "    plt.figure(figsize=(8, 6))\n",
    "    plt.scatter(filtered_genes['logFC'], -np.log10(filtered_genes['p-value']), color='blue', alpha=0.5)\n",
    "\n",
    "    # Add labels for significant genes\n",
    "    for i, gene in enumerate(filtered_genes['Gene']):\n",
    "        plt.text(filtered_genes['logFC'].iloc[i], -np.log10(filtered_genes['p-value']).iloc[i], gene, fontsize=8, ha='center', va='bottom')\n",
    "\n",
    "    plt.xlabel('Log Fold Change')\n",
    "    plt.ylabel('-log10(p-value)')\n",
    "    plt.title(f'Volcano Plot of Differentially Expressed Genes ({condition})')\n",
    "    plt.axvline(x=0, color='black', linestyle='--', linewidth=1)\n",
    "    plt.axhline(y=-np.log10(0.05), color='red', linestyle='--', linewidth=1)\n",
    "    plt.grid(True)\n",
    "    plt.show()\n"
   ]
  },
  {
   "cell_type": "code",
   "execution_count": null,
   "id": "695a6676-fff4-4cac-8ce0-2724377e21d2",
   "metadata": {},
   "outputs": [],
   "source": [
    "# Convert top 10 differentially expressed genes for Con condition to table format\n",
    "con_table = tabulate(con_filtered_genes, headers='keys', tablefmt='pretty')\n",
    "\n",
    "# Convert top 10 differentially expressed genes for Hom condition to table format\n",
    "hom_table = tabulate(hom_filtered_genes, headers='keys', tablefmt='pretty')\n",
    "\n",
    "# Display the tables\n",
    "print(\"Top 10 differentially expressed genes for Con condition:\")\n",
    "print(con_table)\n",
    "\n",
    "print(\"\\nTop 10 differentially expressed genes for Hom condition:\")\n",
    "print(hom_table)\n"
   ]
  },
  {
   "cell_type": "code",
   "execution_count": null,
   "id": "025b6e1c-4a58-4d45-a90d-cf920d9712a4",
   "metadata": {},
   "outputs": [],
   "source": [
    "# Step 3: Filter significant genes and calculate fold changes\n",
    "result = data.uns['rank_genes_groups']\n",
    "\n",
    "groups = result['names'].dtype.names\n",
    "diff_genes = pd.DataFrame({group + '_' + key[:1]: result[key][group]\n",
    "for group in groups for key in ['names', 'pvals_adj', 'logfoldchanges']})\n"
   ]
  },
  {
   "cell_type": "code",
   "execution_count": null,
   "id": "8f8a01b4-244a-41c2-a615-10310dd52b0d",
   "metadata": {},
   "outputs": [],
   "source": [
    "diff_genes = pd.DataFrame(\n",
    "    {group + '_' + key[:1]: result[key][group]\n",
    "    for group in groups for key in ['names', 'pvals_adj', 'logfoldchanges']})\n"
   ]
  },
  {
   "cell_type": "code",
   "execution_count": null,
   "id": "7b93a9c3-bbf6-48dc-878b-282a239eccd0",
   "metadata": {},
   "outputs": [],
   "source": [
    "# Step 4: Statistical significance testing\n",
    "# Adjusted p-values\n",
    "adjusted_p_values_con = diff_genes['Con_p']\n",
    "adjusted_p_values_hom = diff_genes['Hom_p']\n"
   ]
  },
  {
   "cell_type": "code",
   "execution_count": null,
   "id": "7b390289-5761-447f-9dd3-5fd46c33e03b",
   "metadata": {},
   "outputs": [],
   "source": [
    "# Filter genes with adjusted p-values less than 0.05\n",
    "significant_genes_con = diff_genes[diff_genes['Con_p'] < 0.05]\n",
    "significant_genes_hom = diff_genes[diff_genes['Hom_p'] < 0.05]\n"
   ]
  },
  {
   "cell_type": "code",
   "execution_count": null,
   "id": "1676fdb5-d24b-4be5-978b-58c44ddf7472",
   "metadata": {},
   "outputs": [],
   "source": [
    "sc.pl.rank_genes_groups_violin(data, 'genotype', n_genes=8)"
   ]
  },
  {
   "cell_type": "code",
   "execution_count": null,
   "id": "fb568bf8-4472-439e-a969-5846e108edf9",
   "metadata": {},
   "outputs": [],
   "source": [
    "result = data.uns['rank_genes_groups']\n",
    "groups = result['names'].dtype.names\n",
    "filtered_data = {\n",
    "    group + '_' + key[:1]: result[key][group]\n",
    "    for group in groups\n",
    "    for key in ['names', 'pvals', 'logfoldchanges']\n",
    "    if key == 'pvals' and any(p_val < 0.05 for p_val in result[key][group])\n",
    "}\n",
    "pd.DataFrame(filtered_data).head(5)\n"
   ]
  },
  {
   "cell_type": "code",
   "execution_count": null,
   "id": "7470c5bc-18da-41c8-a1cc-1046015e71a2",
   "metadata": {},
   "outputs": [],
   "source": [
    "sc.pl.rank_genes_groups(data, figsize=(6, 4), show=False)"
   ]
  },
  {
   "cell_type": "code",
   "execution_count": null,
   "id": "e67fda39-a3a3-4588-89c3-65e13eaade9f",
   "metadata": {},
   "outputs": [],
   "source": [
    "# Combine age and condition information into a single column\n",
    "combined_column = data.obs['age'].astype(str) + '_' + data.obs['condition'].astype(str)\n",
    "data.obs['age_condition'] = combined_column\n",
    "\n",
    "# Subset data for E14 and E18 separately\n",
    "data_E14 = data[data.obs['age'] == 'E14']\n",
    "data_E18 = data[data.obs['age'] == 'E18']\n",
    "\n",
    "for sample_tag in data.obs[\"age_condition\"].unique():\n",
    "        subset_data = data[data.obs[\"age_condition\"] == sample_tag]\n",
    "\n",
    "data_E14_Hom = data[data.obs['age_condition'] == 'E14_Hom_'\n",
    "\n",
    "# Plot UMAP for E14 samples\n",
    "sc.pl.umap(data_E14, color=['genotype', 'Pax6'], ncols=3)\n",
    "\n",
    "# Plot UMAP for E18 samples\n",
    "sc.pl.umap(data_E18, color=['age_condition', 'Pax6'], ncols=3)\n"
   ]
  },
  {
   "cell_type": "code",
   "execution_count": null,
   "id": "eccd42a2-d88f-4fb4-8dcb-234984e27079",
   "metadata": {},
   "outputs": [],
   "source": [
    "snap.pl.umap(subset_data, color=\"Pax6\", width=800, height=650, scale=0.5)"
   ]
  },
  {
   "cell_type": "markdown",
   "id": "869fc6b2-7a65-46d4-8d9c-7cd8dd9699ed",
   "metadata": {
    "jp-MarkdownHeadingCollapsed": true
   },
   "source": [
    "## Feature plots (for marker genes)"
   ]
  },
  {
   "cell_type": "code",
   "execution_count": null,
   "id": "a027c3f6-daeb-4bc4-a537-69e147fe6d45",
   "metadata": {
    "tags": []
   },
   "outputs": [],
   "source": [
    "# # Canonical marker genes compiled from literature \n",
    "genes_of_interest = ['Pax6']\n",
    "for gene in genes_of_interest:\n",
    "    for (age_tag, genotype_tag), subset_df in data.obs.groupby([\"age\", \"genotype\"]):\n",
    "        subset_data = data[subset_df.index, :]\n",
    "        sc.pl.umap(subset_data, color=gene, title=f'{age_tag} {genotype_tag} - {gene} Expression', ncols=2, wspace=0.1 )    \n",
    "          \n",
    "\n",
    "#sc.pl.umap(subset_data, color=['age','condition', 'sample', 'Eomes', 'Mki67', 'Gad2', 'Reln', 'Nsd1', 'Pax6', 'Bcl11b', 'Satb2', 'Sox5', 'Hbb-bs'], ncols=5)\n",
    "          "
   ]
  },
  {
   "cell_type": "code",
   "execution_count": null,
   "id": "3fdfeedb-6989-4ddd-8357-b6868e9f52b9",
   "metadata": {},
   "outputs": [],
   "source": [
    "# stats for the expression level of a given gene for a given genotype\n",
    "\n",
    "# count column - it's from calling .describe and is just counting the number of values thus the number of droplets in total\n",
    "\n",
    "genes = [\"Pax6\", \"Eomes\", \"Mki67\", \"Bcl11b\"]\n",
    "\n",
    "expression_df = (\n",
    "    data.obs[[\"age\", \"genotype\"]]\n",
    "    .join(data[:, genes].to_df())\n",
    "    .melt(\n",
    "        id_vars=[\"age\", \"genotype\"],\n",
    "        value_vars=genes,\n",
    "        var_name=\"gene\",\n",
    "        value_name=\"expression\",\n",
    "    )\n",
    "    .assign(expressed=lambda x: x[\"expression\"] > 0)\n",
    ")\n",
    "\n",
    "sns.violinplot(\n",
    "    data=expression_df,\n",
    "    x=\"gene\",\n",
    "    y=\"expression\",\n",
    "    hue=\"genotype\",\n",
    "    split=True,\n",
    "    inner=\"quart\",\n",
    ").set(xlabel=\"Gene\", ylabel=\"Expression\", title=\"Gene Expression by Genotype\")\n",
    "\n",
    "grouped_expression_df = expression_df.groupby([\"gene\", \"genotype\"])\n",
    "grouped_expression_df.describe().assign(\n",
    "    proportion_of_droplets_expressing=(grouped_expression_df[\"expressed\"].mean())\n",
    ")\n"
   ]
  },
  {
   "cell_type": "code",
   "execution_count": null,
   "id": "2a7f7b44-b857-415a-8b18-4444aa4bf8f4",
   "metadata": {},
   "outputs": [],
   "source": [
    "# Perform Welch's t-test for each gene across genotypes\n",
    "\n",
    "gene_t_tests = {}\n",
    "for gene in genes:\n",
    "    for genotype in data.obs[\"genotype\"].unique():\n",
    "        # Select data for the current gene and genotype\n",
    "        gene_data = expression_df[(expression_df[\"gene\"] == gene) & (expression_df[\"genotype\"] == genotype)]\n",
    "        \n",
    "        # Get the proportion of cells expressing the gene for the current genotype\n",
    "        proportion_expressed = gene_data[\"expressed\"].mean()\n",
    "        \n",
    "        # Store the proportion in the gene_t_tests dictionary\n",
    "        gene_t_tests[(gene, genotype)] = proportion_expressed\n",
    "\n",
    "# Print t-test results\n",
    "for gene in genes:\n",
    "    genotype_1 = data.obs[\"genotype\"].unique()[0]\n",
    "    genotype_2 = data.obs[\"genotype\"].unique()[1]\n",
    "    proportion_1 = gene_t_tests[(gene, genotype_1)]\n",
    "    proportion_2 = gene_t_tests[(gene, genotype_2)]\n",
    "    \n",
    "    t_stat, p_value = ttest_ind(expression_df[expression_df[\"gene\"] == gene]\n",
    "                                [expression_df[\"genotype\"] == genotype_1][\"expressed\"],\n",
    "                                expression_df[expression_df[\"gene\"] == gene]\n",
    "                                [expression_df[\"genotype\"] == genotype_2][\"expressed\"],\n",
    "                                equal_var=False)\n",
    "    \n",
    "    print(f\"Gene: {gene}\")\n",
    "    print(f\"Proportion expressed in {genotype_1}: {proportion_1}\")\n",
    "    print(f\"Proportion expressed in {genotype_2}: {proportion_2}\")\n",
    "    print(f\"T-statistic: {t_stat}\")\n",
    "    print(f\"P-value: {p_value}\")\n",
    "    if p_value < 0.05:\n",
    "        print(\"Significant difference in expression between genotypes\")\n",
    "    else:\n",
    "        print(\"No significant difference in expression between genotypes\")\n",
    "    print()\n"
   ]
  },
  {
   "cell_type": "markdown",
   "id": "dad1be4f-94eb-42e8-b336-ca068d07cc42",
   "metadata": {},
   "source": [
    "## Azimuth label transfer"
   ]
  },
  {
   "cell_type": "code",
   "execution_count": null,
   "id": "7441fce2-f9c6-4a86-b2b3-dacf4bc22069",
   "metadata": {},
   "outputs": [],
   "source": [
    "# Look at the columns\n",
    "# There are separate columns for each of the 16 datasets - there's a column for the label and then a column for the score of that label.\n",
    "data.obs.keys()"
   ]
  },
  {
   "cell_type": "code",
   "execution_count": null,
   "id": "5d03be22-a03f-4036-95f2-cd2d27424585",
   "metadata": {},
   "outputs": [],
   "source": [
    "print([x for x in data.obs.keys() if x.startswith(\"label_\") and not x.endswith(\"_score\")])\n",
    "\n",
    "# List of Azimuth label transfer references \n",
    "all_references = ['label_loo_2019_E14.5', 'label_loo_2019_P0', 'label_dibella_2021_E13.5', 'label_zhang_2021_E10.5', 'label_dibella_2021_E14.5', 'label_dibella_2021_E15.5', 'label_dibella_2021_E10.5', 'label_zhang_2021_E16.5', 'label_zhang_2021_E18.5', 'label_zhang_2021_E12.5', 'label_zhang_2021_E14.5', 'label_dibella_2021_E11.5', 'label_dibella_2021_E12.5', 'label_zhang_2021_E15.5', 'label_dibella_2021_E17.5', 'label_dibella_2021_E16.5', 'label_dibella_2021_E18.5b', 'label_dibella_2021_E18.5a']\n",
    "\n",
    "# List of relevant age references \n",
    "age_references =  ['label_dibella_2021_E13.5', 'label_zhang_2021_E14.5','label_loo_2019_E14.5','label_dibella_2021_E14.5', 'label_dibella_2021_E17.5', 'label_zhang_2021_E18.5', 'label_dibella_2021_E18.5b', 'label_dibella_2021_E18.5a']\n"
   ]
  },
  {
   "cell_type": "code",
   "execution_count": null,
   "id": "dd105347-af5a-44bf-b58d-f176c0f26c0b",
   "metadata": {},
   "outputs": [],
   "source": [
    "print([x for x in data.obs.keys() if x.startswith(\"label_\") and x.endswith(\"_score\")])\n",
    "\n",
    "# List of Azimuth label transfer re\n",
    "all_references_scores = ['label_loo_2019_E14.5_score', 'label_loo_2019_P0_score', 'label_dibella_2021_E13.5_score', 'label_zhang_2021_E10.5_score', 'label_dibella_2021_E14.5_score', 'label_dibella_2021_E15.5_score', 'label_dibella_2021_E10.5_score', 'label_zhang_2021_E16.5_score', 'label_zhang_2021_E18.5_score', 'label_zhang_2021_E12.5_score', 'label_zhang_2021_E14.5_score', 'label_dibella_2021_E11.5_score', 'label_dibella_2021_E12.5_score', 'label_zhang_2021_E15.5_score', 'label_dibella_2021_E17.5_score', 'label_dibella_2021_E16.5_score', 'label_dibella_2021_E18.5b_score', 'label_dibella_2021_E18.5a_score']\n",
    "\n",
    "# List of relevant age references \n",
    "age_references_scores =  ['label_loo_2019_E14.5_score', 'label_loo_2019_P0_score', 'label_dibella_2021_E13.5_score', 'label_dibella_2021_E14.5_score', 'label_zhang_2021_E18.5_score','label_zhang_2021_E14.5_score','label_dibella_2021_E17.5_score', 'label_dibella_2021_E18.5b_score', 'label_dibella_2021_E18.5a_score']"
   ]
  },
  {
   "cell_type": "code",
   "execution_count": null,
   "id": "c6ab2f60-8d78-4bae-a3be-be63fca1eb2c",
   "metadata": {},
   "outputs": [],
   "source": [
    "# # # For each reference, look at the transfer labelling to clusters and the Azimuth score of how well it worked, separated by E14 and E18 \n",
    "# # # Are the scores lower for a particular cell-type? Is the reference poorly matched with low scores everywhere? \n",
    "\n",
    "# # # Transfer label UMAPs + Azimuth scores \n",
    "\n",
    "# for x in age_references:\n",
    "#     for age_tag in data.obs[\"age\"].unique():\n",
    "#         subset_data = data[data.obs[\"age\"] == age_tag]\n",
    "#         filtered_scores = f\"{x}_score\"\n",
    "#         filtered_data = subset_data[subset_data.obs[filtered_scores] > 0.5]\n",
    "#         for color in [x, filtered_scores]:\n",
    "#             print(age_tag)\n",
    "#             snap.pl.umap(data, color=color, width=800, height=650, scale=0.5)"
   ]
  },
  {
   "cell_type": "markdown",
   "id": "e7553a85-9713-45e9-9e44-c1b57700b2a9",
   "metadata": {},
   "source": [
    "### Proportion of Azimuth labels to cell-types in clusters"
   ]
  },
  {
   "cell_type": "code",
   "execution_count": null,
   "id": "c78331a3-e47b-4937-8f41-25ba593c2dce",
   "metadata": {},
   "outputs": [],
   "source": [
    "label_columns = [\n",
    "    x\n",
    "    for x in sorted(data.obs.columns)\n",
    "    if x.startswith(\"label_\") and not x.endswith(\"_score\")\n",
    "]\n",
    "proportion_columns = [\"age\", \"genotype\", *label_columns]"
   ]
  },
  {
   "cell_type": "code",
   "execution_count": null,
   "id": "d1f8744a-2e33-4202-ae72-37048323faf1",
   "metadata": {},
   "outputs": [],
   "source": [
    "def label_fixer(label: str) -> str:\n",
    "    if \"[\" in label:\n",
    "        label = label.split(\"[\")[0].strip()\n",
    "    if label.startswith(\"Astrocytes (immature)\"):\n",
    "        label = \"Astrocytes (immature)\"\n",
    "    if label.startswith(\"Endothelial\"):\n",
    "        label = \"Endothelial cells\"\n",
    "    if label.startswith(\"Immature neuron\"):\n",
    "        label = \"Neurons - Immature\"\n",
    "    if label == \"Interneuron\" or label.startswith(\"Int\"):\n",
    "        label = \"Interneurons\"\n",
    "    if label == \"Pericyte\":\n",
    "        label = \"Pericytes\"\n",
    "    if label.startswith(\"RG\"):\n",
    "        label = \"Radial glial cells\"\n",
    "    if label == \"Migrating neurons\" or (\n",
    "        label.startswith(\"SVZ\") and \"migrating\" in label\n",
    "    ):\n",
    "        label = \"Neurons - Migrating\"\n",
    "    if label == \"NP\":\n",
    "        label = \"Apical progenitors\"\n",
    "    if label.startswith(\"Layer\"):\n",
    "        if not label.startswith(\"Layer \"):\n",
    "            label = f\"Layer {label[5:]}\"\n",
    "        label = (\n",
    "            label.replace(\"6b\", \"V-VI\")\n",
    "            .replace(\"4\", \"II-IV\")\n",
    "            .replace(\"V-VI-a\", \"V-VI\")\n",
    "            .replace(\"V-VI-b\", \"V-VI\")\n",
    "        )\n",
    "        label = f\"Neurons - {label}\"\n",
    "    return label\n",
    "\n",
    "\n",
    "obs_df = data.obs[[\"leiden\", *proportion_columns]].applymap(label_fixer)"
   ]
  },
  {
   "cell_type": "code",
   "execution_count": null,
   "id": "63bfb74e-abd2-4b9b-bd93-0ae2c5def8e5",
   "metadata": {},
   "outputs": [],
   "source": [
    "labels = np.unique(obs_df[proportion_columns].values)\n",
    "palette = dict(zip(labels, sns.color_palette(\"Spectral\", n_colors=len(labels))))\n",
    "\n",
    "for cluster_idx, cluster_df in obs_df.groupby(\"leiden\"):\n",
    "    fig, ax = plt.subplots()\n",
    "    ax.set_title(f\"Cluster #{cluster_idx} Breakdown\")\n",
    "\n",
    "    for c in proportion_columns:\n",
    "        proportions_dict = cluster_df[c].value_counts(normalize=True).to_dict()\n",
    "\n",
    "        left = 0\n",
    "        for label, proportion in proportions_dict.items():\n",
    "            if proportion == 0:\n",
    "                continue\n",
    "            barcountainer = ax.barh(c, proportion, left=left, color=palette[label])\n",
    "\n",
    "            if proportion > 0.1:\n",
    "                ax.text(\n",
    "                    x=barcountainer[0].get_x() + 0.01,\n",
    "                    y=barcountainer[0].get_y()\n",
    "                    + barcountainer[0].get_height() / 2\n",
    "                    - 0.2,\n",
    "                    s=f\"{label} ({proportion*100:.0f}%)\",\n",
    "                    ha=\"left\",\n",
    "                    va=\"top\",\n",
    "                    size=8,\n",
    "                )\n",
    "\n",
    "            left += proportion\n",
    "\n",
    "    ax.set_xticks([])\n",
    "    ax.set_xlabel(\"Proportion\")\n",
    "    ax.grid(False)\n",
    "    ax.invert_yaxis()\n",
    "    ax.spines[\"top\"].set_visible(False)\n",
    "    ax.spines[\"right\"].set_visible(False)\n",
    "    ax.spines[\"bottom\"].set_visible(False)\n",
    "    ax.spines[\"left\"].set_visible(False)\n",
    "\n",
    "    plt.show()"
   ]
  },
  {
   "cell_type": "markdown",
   "id": "d3a54a1c-72cd-4425-906a-46856bef95cf",
   "metadata": {},
   "source": [
    "### Manual annotation"
   ]
  },
  {
   "cell_type": "code",
   "execution_count": null,
   "id": "3b12c3cf-ba27-4fa8-98ff-9beee11b8dfd",
   "metadata": {},
   "outputs": [],
   "source": [
    "# Define a dictionary to map cell types to leiden clusters\n",
    "\n",
    "cluster_cell_type_dict_combined = {\n",
    "    '0': 'Neurons - immature',\n",
    "    '1': 'Radial glial cells',\n",
    "    '2': 'Neurons',\n",
    "    '3': 'Radial glial cells',\n",
    "    '4': 'Interneurons',\n",
    "    '5': 'Neurons',\n",
    "    '6': 'Neurons',\n",
    "    '7': 'Interneurons',\n",
    "    '8': 'Neurons - immature',\n",
    "    '9': 'Neurons',\n",
    "    '10': 'Intermediate progenitor cells',\n",
    "    '11': 'Neurons',\n",
    "    '12': 'Neurons',\n",
    "    '13': 'Interneurons',\n",
    "    '14': 'Neurons',\n",
    "    '15': 'Astrocytes',\n",
    "    '16': 'Neurons',\n",
    "    '17': 'Pericytes',\n",
    "    '18': 'Interneurons',\n",
    "    '19': 'Cajal-Retzius cells',\n",
    "    '20': 'Neurons',\n",
    "    '21': 'Endothelial cells',\n",
    "    '22': 'Microglia',\n",
    "    '23': 'Oligodendrocytes',\n",
    "}"
   ]
  },
  {
   "cell_type": "code",
   "execution_count": null,
   "id": "99862924-b2ee-4f91-bcae-599e401316d2",
   "metadata": {},
   "outputs": [],
   "source": [
    "data.obs['cell_type'] = data.obs['leiden'].astype(str).map(cluster_cell_type_dict_combined)"
   ]
  },
  {
   "cell_type": "code",
   "execution_count": null,
   "id": "00cd938a-3ce3-4699-8242-43fcc49786e8",
   "metadata": {},
   "outputs": [],
   "source": [
    "data.obs[['cell_type', 'leiden']]"
   ]
  },
  {
   "cell_type": "code",
   "execution_count": null,
   "id": "1eb5ed6d-4868-4721-b863-c23d3b185e0d",
   "metadata": {},
   "outputs": [],
   "source": [
    "# Cell types per genotype (at both ages)\n",
    "\n",
    "\n",
    "# for (age_tag, genotype_tag), subset_df in data.obs.groupby([\"age\", \"genotype\"]):\n",
    "#     subset_data = data[subset_df.index, :]\n",
    "#     sc.pl.umap(subset_data, color='cell_type', title=f'{age_tag} {genotype_tag} - Cell Types')\n",
    "\n",
    "for (genotype_tag), subset_df in data.obs.groupby([\"genotype\"]):\n",
    "    subset_data = data[subset_df.index, :]\n",
    "    sc.pl.umap(subset_data, color='cell_type', title=f'{genotype_tag} - Cell Types')\n"
   ]
  },
  {
   "cell_type": "code",
   "execution_count": null,
   "id": "9e5f75c2-d4f5-4c4a-9bfa-fa820eeeaac8",
   "metadata": {},
   "outputs": [],
   "source": [
    "# Proportion of cell types within category, per genotype per age \n",
    "\n",
    "for (age_tag, genotype_tag), subset_df in data.obs.groupby([\"age\", \"genotype\"]):\n",
    "    subset_data = data[subset_df.index, :].copy()\n",
    "    sc.pl.umap(subset_data, color='cell_type', title=f'{age_tag} {genotype_tag} - Cell Types', ncols=2, wspace=0.1)\n",
    "    print(\n",
    "        subset_df[\"cell_type\"].value_counts() / len(subset_df)\n",
    "    )\n"
   ]
  },
  {
   "cell_type": "code",
   "execution_count": null,
   "id": "0ba23bb8-2cae-4e55-8f01-c99c0a4a865d",
   "metadata": {},
   "outputs": [],
   "source": [
    "# from scipy.stats import ttest_ind\n",
    "\n",
    "# # Dictionary to store t-test results for each cell type\n",
    "# cell_type_t_tests = {}\n",
    "\n",
    "# # Iterate over combinations of age and genotype\n",
    "# for (age_tag, genotype_tag), subset_df in data.obs.groupby([\"age\", \"genotype\"]):\n",
    "#     subset_data = data[subset_df.index, :].copy()\n",
    "    \n",
    "#     # Calculate proportion of each cell type within the subgroup\n",
    "#     cell_type_proportions = subset_df[\"cell_type\"].value_counts() / len(subset_df)\n",
    "    \n",
    "#     # Store proportions in the dictionary\n",
    "#     for cell_type, proportion in cell_type_proportions.items():\n",
    "#         if (age_tag, cell_type) not in cell_type_t_tests:\n",
    "#             cell_type_t_tests[(age_tag, cell_type)] = {'Con': [], 'Hom': []}\n",
    "#         cell_type_t_tests[(age_tag, cell_type)][genotype_tag].append(proportion)\n",
    "\n",
    "# # Perform t-tests for each cell type\n",
    "# for (age_tag, cell_type), proportions in cell_type_t_tests.items():\n",
    "#     if len(proportions['Con']) > 0 and len(proportions['Hom']) > 0:  # Check if both genotypes have data\n",
    "#         t_stat, p_value = ttest_ind(proportions['Con'], proportions['Hom'])\n",
    "#         print(f\"For {cell_type} at {age_tag}:\")\n",
    "#         print(f\"T-statistic: {t_stat}\")\n",
    "#         print(f\"P-value: {p_value}\")\n",
    "#         if p_value < 0.05:\n",
    "#             print(\"Significant difference in proportions between genotypes\")\n",
    "#         else:\n",
    "#             print(\"No significant difference in proportions between genotypes\")\n",
    "#         print()\n",
    "#     else:\n",
    "#         print(f\"Not enough data for {cell_type} at {age_tag} to perform t-test\")\n"
   ]
  },
  {
   "cell_type": "code",
   "execution_count": null,
   "id": "73ab6e8a-2c09-4c7c-ab0c-b1246351d922",
   "metadata": {},
   "outputs": [],
   "source": [
    "# Con and Hom on same plot \n",
    "for age_tag, subset_df in data.obs.groupby(\"age\"):\n",
    "    subset_data = data[subset_df.index, :].copy()\n",
    "    subset_data.obs[\"cell_type_by_genotype\"] = subset_df[\"genotype\"].astype(str) + \":\" + subset_df[\"cell_type\"]\n",
    "\n",
    "    sc.pl.umap(subset_data, color='cell_type_by_genotype', title=f'{age_tag} - Cell Types')\n",
    "    print(\n",
    "        subset_data.obs[\"cell_type_by_genotype\"].value_counts() / len(subset_df)\n",
    "    )"
   ]
  },
  {
   "cell_type": "markdown",
   "id": "1e0f9eb6-9b2c-49a5-a0bc-d1be77ce519f",
   "metadata": {},
   "source": [
    "### Subset Layer 1 neurons across timepoints and genotypes"
   ]
  },
  {
   "cell_type": "code",
   "execution_count": null,
   "id": "2104942f-f93e-4c47-aa73-8058cf176fee",
   "metadata": {},
   "outputs": [],
   "source": [
    "results = []\n",
    "\n",
    "\n",
    "for age_tag, subset_age_df in data.obs.groupby([\"age\"]):\n",
    "    subset_data_age = data[subset_age_df.index, :].copy()\n",
    "    #print(subset_data_age.obs['age'].unique())\n",
    "    for genotype_tag, subset_genotype_df in subset_data_age.obs.groupby(['genotype']):\n",
    "        subset_data_genotype = subset_data_age[subset_genotype_df.index, :].copy()\n",
    "        subset_data_rgc = subset_data_genotype[subset_data_genotype.obs['cell_type'] == \"Neurons\", :].copy()\n",
    "        results.append({'Age': age_tag, 'Genotype': genotype_tag, 'Count': len(subset_data_rgc)})\n",
    "\n",
    "        \n",
    "        print(f\"Neurons in {age_tag} {genotype_tag} is {len(subset_data_rgc)}\")\n",
    "        \n",
    "rgc_df = pd.DataFrame(results)\n",
    "\n",
    "\n",
    "\n",
    "\n",
    "# Set the aesthetic style of the plots\n",
    "sns.set_style(\"whitegrid\")\n",
    "\n",
    "# Create a bar plot\n",
    "plt.figure(figsize=(10, 6))\n",
    "bar_plot = sns.barplot(x='Age', y='Count', hue='Genotype', data=rgc_df, palette='pastel', ci=None)\n",
    "\n",
    "# Adding labels and title\n",
    "plt.xlabel('Age')\n",
    "plt.ylabel('Count of Immature Neurons')\n",
    "plt.title('Comparison of Immature Neuron Counts by Age and Genotype')\n",
    "plt.legend(title='Genotype')\n",
    "\n",
    "for p in bar_plot.patches:\n",
    "    if p.get_height() > 0:  # Only annotate bars with height greater than 0\n",
    "        bar_plot.annotate(format(int(p.get_height()), 'd'),  # Remove unnecessary decimals\n",
    "                          (p.get_x() + p.get_width() / 2., p.get_height()),\n",
    "                          ha = 'center', va = 'center',\n",
    "                          size=10, xytext = (0, 8),\n",
    "                          textcoords = 'offset points')\n",
    "# Show the plot\n",
    "plt.show()\n",
    "\n"
   ]
  },
  {
   "cell_type": "code",
   "execution_count": null,
   "id": "0476e615-ac59-4f46-a7ff-bfede09c378f",
   "metadata": {},
   "outputs": [],
   "source": [
    "results = []\n",
    "\n",
    "for age_tag, subset_age_df in data.obs.groupby([\"age\"]):\n",
    "    subset_data_age = data[subset_age_df.index, :].copy()\n",
    "    for genotype_tag, subset_genotype_df in subset_data_age.obs.groupby(['genotype']):\n",
    "        subset_data_genotype = subset_data_age[subset_genotype_df.index, :].copy()\n",
    "        subset_data_cells = subset_data_genotype[subset_data_genotype.obs['cell_type'] == \"Neurons\", :].copy()\n",
    "        \n",
    "        # Count cells expressing the gene 'Bcl11b'\n",
    "        bcl11b_count = subset_data_cells[:, data.var_names == 'Bcl11b'].X.sum()\n",
    "        \n",
    "        results.append({'Age': age_tag, 'Genotype': genotype_tag, 'Bcl11b_Count': bcl11b_count})\n",
    "        \n",
    "        print(f\"Immature neurons expressing Bcl11b in {age_tag} {genotype_tag} is {bcl11b_count}\")\n",
    "\n",
    "# Convert results to DataFrame\n",
    "bcl11b_df = pd.DataFrame(results)\n",
    "\n",
    "# Set the aesthetic style of the plots\n",
    "sns.set_style(\"whitegrid\")\n",
    "\n",
    "# Create bar plot\n",
    "plt.figure(figsize=(10, 6))\n",
    "bar_plot = sns.barplot(x='Age', y='Bcl11b_Count', hue='Genotype', data=bcl11b_df, palette='pastel', ci=None)\n",
    "\n",
    "# Adding labels and title\n",
    "plt.xlabel('Age')\n",
    "plt.ylabel('Count of Immature neurons expressing Bcl11b')\n",
    "plt.title('Comparison of Immature neurons expressing Bcl11b by Age and Genotype')\n",
    "plt.legend(title='Genotype')\n",
    "\n",
    "# Annotate bars\n",
    "for p in bar_plot.patches:\n",
    "    if p.get_height() > 0:  # Only annotate bars with height greater than 0\n",
    "        bar_plot.annotate(format(int(p.get_height()), 'd'),  # Remove unnecessary decimals\n",
    "                          (p.get_x() + p.get_width() / 2., p.get_height()),\n",
    "                          ha='center', va='center',\n",
    "                          size=10, xytext=(0, 8),\n",
    "                          textcoords='offset points')\n",
    "\n",
    "# Show the plot\n",
    "plt.show()\n"
   ]
  },
  {
   "cell_type": "code",
   "execution_count": null,
   "id": "a93bce5a-8bb7-48d5-ba88-b57070e6abc6",
   "metadata": {},
   "outputs": [],
   "source": [
    "# # UMAP OF BCL11B EXPRESSING CELLS (IMMATURE NEURONS)\n",
    "\n",
    "for age_tag, subset_age_df in data.obs.groupby([\"age\"]):\n",
    "    subset_data_age = data[data.obs['age'] == age_tag, :].copy()\n",
    "    for genotype_tag, subset_genotype_df in subset_data_age.obs.groupby(['genotype']):\n",
    "        subset_data_genotype = subset_data_age[subset_data_age.obs['genotype'] == genotype_tag, :].copy()\n",
    "        \n",
    "        # Define clusters expressing radial glial cells based on their cell type\n",
    "        subset_data_genotype.obs['is_Neuron'] = subset_data_genotype.obs['cell_type'].str.startswith('Neurons')\n",
    "        \n",
    "        # Convert 'is_radial_glial' to category dtype\n",
    "        subset_data_genotype.obs['is_Neuron'] = subset_data_genotype.obs['is_Neuron'].astype('category')\n",
    "             \n",
    "        # Plot the UMAP\n",
    "        sc.pl.umap(subset_data_genotype, color=[\"is_Neuron\"], title=f\"{age_tag} {genotype_tag} Immature Neuron Expression\")\n",
    "\n",
    "\n",
    "\n",
    "# for age_tag, subset_age_df in data.obs.groupby([\"age\"]):\n",
    "#     subset_data_age = data[data.obs['age'] == age_tag, :].copy()\n",
    "#     for genotype_tag, subset_genotype_df in subset_data_age.obs.groupby(['genotype']):\n",
    "#         subset_data_genotype = subset_data_age[subset_data_age.obs['genotype'] == genotype_tag, :].copy()\n",
    "        \n",
    "#         # Define cells expressing Bcl11b based on their gene expression\n",
    "#         is_bcl11b_expressing = subset_data_genotype[:, data.var_names == 'Bcl11b'].X.sum(axis=1) > 0\n",
    "        \n",
    "#         # Perform Leiden clustering on cells expressing Bcl11b\n",
    "#         sc.tl.leiden(subset_data_genotype[is_bcl11b_expressing, :])\n",
    "        \n",
    "#         # Plot the UMAP with clusters expressing Bcl11b\n",
    "#         sc.pl.umap(subset_data_genotype, color=[\"leiden\", \"Bcl11b\"], title=f\"{age_tag} {genotype_tag} Clusters and Bcl11b Expression\")\n",
    "\n"
   ]
  },
  {
   "cell_type": "code",
   "execution_count": null,
   "id": "d6eaaa7f-164a-4c48-b3ef-fe7f94b03a18",
   "metadata": {},
   "outputs": [],
   "source": [
    "results = []\n",
    "\n",
    "for age_tag, subset_age_df in data.obs.groupby([\"age\"]):\n",
    "    subset_data_age = data[subset_age_df.index, :].copy()\n",
    "    for genotype_tag, subset_genotype_df in subset_data_age.obs.groupby(['genotype']):\n",
    "        subset_data_genotype = subset_data_age[subset_genotype_df.index, :].copy()\n",
    "        subset_data_cells = subset_data_genotype[subset_data_genotype.obs['cell_type'] == \"Neurons\", :].copy()\n",
    "        \n",
    "        # Count cells expressing the gene 'Fezf2'\n",
    "        fezf2_count = subset_data_cells[:, data.var_names == 'Fezf2'].X.sum()\n",
    "        \n",
    "        results.append({'Age': age_tag, 'Genotype': genotype_tag, 'Fezf2_Count': fezf2_count})\n",
    "        \n",
    "        print(f\"Cells expressing Fezf2 in {age_tag} {genotype_tag} is {fezf2_count}\")\n",
    "\n",
    "# Convert results to DataFrame\n",
    "fezf2_df = pd.DataFrame(results)\n",
    "\n",
    "# Set the aesthetic style of the plots\n",
    "sns.set_style(\"whitegrid\")\n",
    "\n",
    "# Create bar plot\n",
    "plt.figure(figsize=(10, 6))\n",
    "bar_plot = sns.barplot(x='Age', y='Fezf2_Count', hue='Genotype', data=fezf2_df, palette='pastel', ci=None)\n",
    "\n",
    "# Adding labels and title\n",
    "plt.xlabel('Age')\n",
    "plt.ylabel('Count of Immature neurons expressing Fezf2')\n",
    "plt.title('Comparison of Immature neurons expressing Fezf2 by Age and Genotype')\n",
    "plt.legend(title='Genotype')\n",
    "\n",
    "# Annotate bars\n",
    "for p in bar_plot.patches:\n",
    "    if p.get_height() > 0:  # Only annotate bars with height greater than 0\n",
    "        bar_plot.annotate(format(int(p.get_height()), 'd'),  # Remove unnecessary decimals\n",
    "                          (p.get_x() + p.get_width() / 2., p.get_height()),\n",
    "                          ha='center', va='center',\n",
    "                          size=10, xytext=(0, 8),\n",
    "                          textcoords='offset points')\n",
    "\n",
    "# Show the plot\n",
    "plt.show()\n"
   ]
  },
  {
   "cell_type": "code",
   "execution_count": null,
   "id": "076981c8-8f4a-495e-bf9f-749eb26917ed",
   "metadata": {},
   "outputs": [],
   "source": [
    "for age_tag, subset_age_df in data.obs.groupby([\"age\"]):\n",
    "    subset_data_age = data[subset_age_df.index, :].copy()\n",
    "    #print(subset_data_age.obs['age'].unique())\n",
    "    #subset_data_genotype = subset_data_age[subset_genotype_df.index, :].copy()\n",
    "    subset_data_rgc = subset_data_age[subset_data_age.obs['cell_type'] == \"Neurons - immature\", :].copy()\n",
    "    #print(subset_data_rgc.obs)\n",
    "    sc.tl.rank_genes_groups(subset_data_rgc, groupby=\"genotype\", method='wilcoxon')\n",
    "    sc.pl.rank_genes_groups(subset_data_rgc, groupby=\"genotype\", method='wilcoxon')\n",
    "    sc.pl.rank_genes_groups_dotplot(\n",
    "        subset_data_rgc,\n",
    "        var_names = [\"Bcl11b\", 'Fezf2', \"Sox5\",\"Ldb2\"],\n",
    "        values_to_plot=\"logfoldchanges\", cmap='bwr',\n",
    "        vmin=-2,\n",
    "        vmax=2,\n",
    "        min_logfoldchange=3,\n",
    "        colorbar_title='log fold change',\n",
    "        title=f\"{age_tag} Neuron \\nMarker gene DEG Expression\\nper genotype\"\n",
    "    )\n",
    "\n",
    "\n",
    "#Threshold by p-value, get a set of top K up- and down-regulated genes"
   ]
  },
  {
   "cell_type": "code",
   "execution_count": null,
   "id": "e403ccca-3b0e-4722-947b-4692b9dddd8b",
   "metadata": {},
   "outputs": [],
   "source": []
  },
  {
   "cell_type": "code",
   "execution_count": null,
   "id": "ecb3956f-9c04-4501-bcf4-4a04bb6c970f",
   "metadata": {},
   "outputs": [],
   "source": []
  },
  {
   "cell_type": "markdown",
   "id": "3a9470c7-2fc7-4c66-9648-a56dbcc9a24f",
   "metadata": {},
   "source": [
    "### Subset RGCs across timepoints and genotypes "
   ]
  },
  {
   "cell_type": "code",
   "execution_count": null,
   "id": "d01c39df-9986-4ab7-aa2e-83e0f7e59252",
   "metadata": {},
   "outputs": [],
   "source": [
    "results = []\n",
    "\n",
    "\n",
    "for age_tag, subset_age_df in data.obs.groupby([\"age\"]):\n",
    "    subset_data_age = data[subset_age_df.index, :].copy()\n",
    "    #print(subset_data_age.obs['age'].unique())\n",
    "    for genotype_tag, subset_genotype_df in subset_data_age.obs.groupby(['genotype']):\n",
    "        subset_data_genotype = subset_data_age[subset_genotype_df.index, :].copy()\n",
    "        subset_data_rgc = subset_data_genotype[subset_data_genotype.obs['cell_type'] == \"Radial glial cells\", :].copy()\n",
    "        results.append({'Age': age_tag, 'Genotype': genotype_tag, 'Count': len(subset_data_rgc)})\n",
    "\n",
    "        \n",
    "        print(f\"RGC in {age_tag} {genotype_tag} is {len(subset_data_rgc)}\")\n",
    "        \n",
    "rgc_df = pd.DataFrame(results)\n",
    "\n",
    "\n",
    "\n",
    "\n",
    "# Set the aesthetic style of the plots\n",
    "sns.set_style(\"whitegrid\")\n",
    "\n",
    "# Create a bar plot\n",
    "plt.figure(figsize=(10, 6))\n",
    "bar_plot = sns.barplot(x='Age', y='Count', hue='Genotype', data=rgc_df, palette='pastel', ci=None)\n",
    "\n",
    "# Adding labels and title\n",
    "plt.xlabel('Age')\n",
    "plt.ylabel('Count of Radial Glial Cells')\n",
    "plt.title('Comparison of Radial Glial Cell Counts by Age and Genotype')\n",
    "plt.legend(title='Genotype')\n",
    "\n",
    "for p in bar_plot.patches:\n",
    "    if p.get_height() > 0:  # Only annotate bars with height greater than 0\n",
    "        bar_plot.annotate(format(int(p.get_height()), 'd'),  # Remove unnecessary decimals\n",
    "                          (p.get_x() + p.get_width() / 2., p.get_height()),\n",
    "                          ha = 'center', va = 'center',\n",
    "                          size=10, xytext = (0, 8),\n",
    "                          textcoords = 'offset points')\n",
    "# Show the plot\n",
    "plt.show()\n",
    "\n"
   ]
  },
  {
   "cell_type": "markdown",
   "id": "6dc4b205-e17a-49de-b29e-8790af7d5dff",
   "metadata": {},
   "source": [
    "#### Analysis of DEGs in RGCs"
   ]
  },
  {
   "cell_type": "code",
   "execution_count": null,
   "id": "4b2c18b3-5f1f-4711-86b9-711d9e74a246",
   "metadata": {},
   "outputs": [],
   "source": [
    "\n",
    "for age_tag, subset_age_df in data.obs.groupby([\"age\"]):\n",
    "    subset_data_age = data[subset_age_df.index, :].copy()\n",
    "    #print(subset_data_age.obs['age'].unique())\n",
    "    #subset_data_genotype = subset_data_age[subset_genotype_df.index, :].copy()\n",
    "    subset_data_rgc = subset_data_age[subset_data_age.obs['cell_type'] == \"Radial glial cells\", :].copy()\n",
    "    #print(subset_data_rgc.obs)\n",
    "    sc.tl.rank_genes_groups(subset_data_rgc, groupby=\"genotype\", method='wilcoxon')\n",
    "    sc.pl.rank_genes_groups(subset_data_rgc, groupby=\"genotype\", method='wilcoxon')\n",
    "    sc.pl.rank_genes_groups_dotplot(\n",
    "        subset_data_rgc,\n",
    "        var_names = [\n",
    "    \"Pax6\",\n",
    "    \"Fabp7\",\n",
    "    \"Vim\",\n",
    "    \"Nes\",\n",
    "    \"Sox2\",\n",
    "    \"Hes1\",\n",
    "    \"Hes5\",\n",
    "    \"Ednrb\",\n",
    "    \"Sptbn1\",\n",
    "    \"Hmga2\"\n",
    "],\n",
    "        values_to_plot=\"logfoldchanges\", cmap='bwr',\n",
    "        vmin=-0.5,\n",
    "        vmax=0.5,\n",
    "        min_logfoldchange=3,\n",
    "        colorbar_title='log fold change', \n",
    "        title=f\"{age_tag} Radial Glial Cell \\nMarker gene DEG Expression\\nper genotype\", \n",
    "    )\n",
    "    sc.pl.rank_genes_groups_dotplot(\n",
    "        subset_data_rgc,\n",
    "        var_names = [subset_data_rgc\n",
    "],\n",
    "        values_to_plot=\"logfoldchanges\", cmap='bwr',\n",
    "        vmin=-0.5,\n",
    "        vmax=0.5,\n",
    "        min_logfoldchange=3,\n",
    "        colorbar_title='log fold change', \n",
    "        title=f\"{age_tag} Radial Glial Cell \\nMarker gene DEG Expression\\nper genotype\", \n",
    "    )\n"
   ]
  },
  {
   "cell_type": "code",
   "execution_count": null,
   "id": "0aa0bcd2-6831-4cd5-a084-9935addb6d3a",
   "metadata": {},
   "outputs": [],
   "source": [
    "# RGC UMAP \n",
    "\n",
    "# for age_tag, subset_age_df in data.obs.groupby([\"age\"]):\n",
    "#     subset_data_age = data[subset_age_df.index, :].copy()\n",
    "#     for genotype_tag, subset_genotype_df in subset_data_age.obs.groupby(['genotype']):\n",
    "#         subset_data_genotype.obs['cell_type'] = subset_data_genotype.obs['cell_type'].astype('category')\n",
    "#         subset_data_genotype = subset_data_age[subset_genotype_df.index, :].copy()\n",
    "#         subset_data_genotype.obs[\"is_glial\"] = subset_data_genotype.obs['cell_type'].str.startswith('Radial')\n",
    "#         # Convert 'cell_type' column to categorical dtype if it's not already\n",
    "#         # subset_data_genotype.obs['cell_type'] = subset_data_genotype.obs['cell_type'].astype('category')\n",
    "\n",
    "#         sc.pl.umap(subset_data_genotype, color=[\"is_glial\"], title=f\"{age_tag} {genotype_tag} Radial Glial Cell Expression\")\n",
    "\n",
    "\n",
    "\n",
    "for age_tag, subset_age_df in data.obs.groupby([\"age\"]):\n",
    "    subset_data_age = data[data.obs['age'] == age_tag, :].copy()\n",
    "    for genotype_tag, subset_genotype_df in subset_data_age.obs.groupby(['genotype']):\n",
    "        subset_data_genotype = subset_data_age[subset_data_age.obs['genotype'] == genotype_tag, :].copy()\n",
    "        \n",
    "        # Define clusters expressing radial glial cells based on their cell type\n",
    "        subset_data_genotype.obs['is_radial_glial'] = subset_data_genotype.obs['cell_type'].str.startswith('Radial')\n",
    "        \n",
    "        # Convert 'is_radial_glial' to category dtype\n",
    "        subset_data_genotype.obs['is_radial_glial'] = subset_data_genotype.obs['is_radial_glial'].astype('category')\n",
    "             \n",
    "        # Plot the UMAP\n",
    "        sc.pl.umap(subset_data_genotype, color=[\"is_radial_glial\"], title=f\"{age_tag} {genotype_tag} Radial Glial Cell Expression\")\n"
   ]
  },
  {
   "cell_type": "code",
   "execution_count": null,
   "id": "6b3b6bb5-55f3-414c-aaa4-9f5dd68e9f01",
   "metadata": {},
   "outputs": [],
   "source": []
  },
  {
   "cell_type": "code",
   "execution_count": null,
   "id": "c7b487fd-320c-4c87-a347-e1fccbf2e9f4",
   "metadata": {},
   "outputs": [],
   "source": [
    "proportion_columns = [\"genotype\"]"
   ]
  },
  {
   "cell_type": "code",
   "execution_count": null,
   "id": "33306b60-ea33-4700-88c8-6c60a3dcd83b",
   "metadata": {},
   "outputs": [],
   "source": [
    "# Assuming 'data' and 'proportion_columns' are defined elsewhere\n",
    "labels = np.unique(obs_df[proportion_columns].values)\n",
    "palette = dict(zip(labels, sns.color_palette(\"Spectral\", n_colors=len(labels))))\n",
    "\n",
    "# Create a single figure and axis\n",
    "fig, ax = plt.subplots(figsize=(10, 6))  # Adjust the figure size as needed\n",
    "\n",
    "# Variables to adjust the placement of each cluster's bars in the plot\n",
    "group_gap = 0.5  # Gap between groups\n",
    "bar_height = 0.4  # Height of each bar\n",
    "current_bottom = 0  # Keeps track of where to start the next cluster\n",
    "\n",
    "# Loop through each cluster\n",
    "for age_tag, subset_age_df in data.obs.groupby([\"age\"]):\n",
    "    subset_data_age = data[subset_age_df.index, :].copy()\n",
    "    for cluster_idx, cluster_df in enumerate(subset_data_age.obs.groupby(\"cell_type\")):\n",
    "        if cluster_idx > 0:\n",
    "            current_bottom += group_gap  # Add a gap between groups\n",
    "    \n",
    "        # Add a title for each cluster within the plot\n",
    "        ax.text(x=-0.01, y=current_bottom, s=f\"{cluster_df[0]}\", ha='right', va='center', weight='bold', fontsize=12)\n",
    "    \n",
    "        for idx, c in enumerate(proportion_columns):\n",
    "            proportions_dict = cluster_df[1][c].value_counts(normalize=True).to_dict()\n",
    "            left = 0\n",
    "    \n",
    "            # Commented out the display of subgroup names to the left of the bars\n",
    "            # ax.text(x=-0.01, y=current_bottom + idx*(bar_height + 0.1), s=c, ha='right', va='center')\n",
    "    \n",
    "            for label, proportion in sorted(proportions_dict.items(), key=lambda x: x[1], reverse=True):\n",
    "                if proportion == 0:\n",
    "                    continue\n",
    "    \n",
    "                bar_container = ax.barh(y=current_bottom + idx*(bar_height + 0.1), width=proportion, height=bar_height, left=left, color=palette[label])\n",
    "    \n",
    "                # Adjust text position based on proportion to avoid crowding\n",
    "                if proportion > 0.1:\n",
    "                    ax.text(\n",
    "                        x=left + proportion / 2,\n",
    "                        y=current_bottom + idx*(bar_height + 0.1),\n",
    "                        s=f\"{label} ({proportion*100:.0f}%)\",\n",
    "                        ha=\"center\",\n",
    "                        va=\"center\",\n",
    "                        size=8,\n",
    "                    )\n",
    "    \n",
    "                left += proportion\n",
    "    \n",
    "        current_bottom += (len(proportion_columns) * (bar_height + 0.1))  # Update the bottom for the next group\n",
    "\n",
    "    # Finalize the plot\n",
    "    ax.set_yticks([])\n",
    "    ax.set_xlabel(\"Proportion of cell-type composed by genotype\")\n",
    "    ax.grid(False)\n",
    "    ax.invert_yaxis()  # Optional: depends on how you want to display the groups\n",
    "    ax.spines[\"top\"].set_visible(False)\n",
    "    ax.spines[\"right\"].set_visible(False)\n",
    "    ax.spines[\"bottom\"].set_visible(False)\n",
    "    ax.spines[\"left\"].set_visible(False)\n",
    "    \n",
    "    \n",
    "    \n",
    "    \n",
    "    \n",
    "    plt.show()"
   ]
  },
  {
   "cell_type": "markdown",
   "id": "13fa2038-0c90-4174-a2df-06eef7368884",
   "metadata": {},
   "source": [
    "## DEG Enrichment analysis EnrichR"
   ]
  },
  {
   "cell_type": "code",
   "execution_count": null,
   "id": "fc1dd5ae-45ee-48f7-86b8-02938761a73c",
   "metadata": {},
   "outputs": [],
   "source": [
    "sc.tl.rank_genes_groups(data,\n",
    "                        groupby='genotype',\n",
    "                        use_raw=False,\n",
    "                        method='wilcoxon',\n",
    "                        groups=[\"Hom\"],\n",
    "                        key=[\"Genotypes\"], \n",
    "                        reference='Con',\n",
    "                        pval_cutoff=0.05)\n",
    "\n",
    "#sc.tl.rank_genes_groups(data, groupby='spectral_leiden_merged', method = 'wilcoxon', key_added =\"spectral\", pval_cutoff=0.05)\n",
    "\n"
   ]
  },
  {
   "cell_type": "code",
   "execution_count": null,
   "id": "3048ee48-bf56-4d61-ba3c-a403de0a36a8",
   "metadata": {},
   "outputs": [],
   "source": [
    "sc.pl.rank_genes_groups(data, n_genes=25, sharey=False)"
   ]
  },
  {
   "cell_type": "code",
   "execution_count": null,
   "id": "e5f63ff9-a6a4-45d4-bfb2-32dd8075b492",
   "metadata": {},
   "outputs": [],
   "source": [
    "# get deg result\n",
    "result = data.uns['rank_genes_groups']\n",
    "groups = result['names'].dtype.names\n",
    "degs = pd.DataFrame(\n",
    "    {group + '_' + key: result[key][group]\n",
    "    for group in groups for key in ['names','scores', 'pvals','pvals_adj','logfoldchanges']})\n"
   ]
  },
  {
   "cell_type": "code",
   "execution_count": null,
   "id": "844ac5a2-a957-412b-a768-0676c84d5587",
   "metadata": {},
   "outputs": [],
   "source": [
    "degs.head()"
   ]
  },
  {
   "cell_type": "code",
   "execution_count": null,
   "id": "fd3c2b95-a83c-4a85-a3c8-feed3eae20d1",
   "metadata": {},
   "outputs": [],
   "source": [
    "degs.shape"
   ]
  },
  {
   "cell_type": "code",
   "execution_count": null,
   "id": "a2091eb4-42e3-4dd9-8235-5509d579fa9f",
   "metadata": {},
   "outputs": [],
   "source": [
    "# subset up or down regulated genes\n",
    "degs_sig = degs[degs.Hom_pvals_adj < 0.05]\n",
    "degs_up = degs_sig[degs_sig.Hom_logfoldchanges > 0]\n",
    "degs_dw = degs_sig[degs_sig.Hom_logfoldchanges < 0]"
   ]
  },
  {
   "cell_type": "code",
   "execution_count": null,
   "id": "6162aa83-7be0-4f19-bbc4-2d7f6e5b2415",
   "metadata": {},
   "outputs": [],
   "source": [
    "degs_up.shape"
   ]
  },
  {
   "cell_type": "code",
   "execution_count": null,
   "id": "af8eec82-8b81-4e15-a641-3d96604c1eed",
   "metadata": {},
   "outputs": [],
   "source": [
    "degs_dw.shape"
   ]
  },
  {
   "cell_type": "markdown",
   "id": "8b4d8fb7-d23c-4c3c-afa7-265ba1475196",
   "metadata": {},
   "source": [
    "### GSEAPY"
   ]
  },
  {
   "cell_type": "code",
   "execution_count": null,
   "id": "1f39c761-4c24-4e2a-81c5-18d91c520bb5",
   "metadata": {},
   "outputs": [],
   "source": [
    "#see full list of latest enrichr library names, which will pass to -g parameter:\n",
    "names = gp.get_library_name()\n",
    "\n",
    "# show top 20 entries.\n",
    "print(names[:20])"
   ]
  },
  {
   "cell_type": "code",
   "execution_count": null,
   "id": "e04bba21-1271-42e3-9c14-1bfb411e6dc6",
   "metadata": {},
   "outputs": [],
   "source": [
    "#GO_Biological_Process_2021\n",
    "\n",
    "# Enricr API\n",
    "enr_up = gp.enrichr(degs_up.Hom_names,\n",
    "                    gene_sets='Mouse_Gene_Atlas',\n",
    "                    outdir=None)"
   ]
  },
  {
   "cell_type": "code",
   "execution_count": null,
   "id": "5666e10e-dcc9-4c17-8f0e-a76a0c087db6",
   "metadata": {},
   "outputs": [],
   "source": [
    "\n",
    "# trim (go:...)\n",
    "enr_up.res2d.Term = enr_up.res2d.Term.str.split(\" \\(GO\").str[0]\n",
    "\n",
    "# dotplot\n",
    "gp.dotplot(enr_up.res2d, figsize=(3,5), title=\"Up\", cmap = plt.cm.autumn_r)\n",
    "plt.show()\n",
    "\n",
    "enr_dw = gp.enrichr(degs_dw.Hom_names,\n",
    "                    gene_sets='Mouse_Gene_Atlas',\n",
    "                    outdir=None)\n",
    "\n",
    "\n",
    "enr_dw.res2d.Term = enr_dw.res2d.Term.str.split(\" \\(GO\").str[0]\n",
    "gp.dotplot(enr_dw.res2d,\n",
    "           figsize=(3,5),\n",
    "           title=\"Down\",\n",
    "           cmap = plt.cm.winter_r,\n",
    "           size=5)\n",
    "plt.show()\n",
    "\n",
    "# concat results\n",
    "enr_up.res2d['UP_DW'] = \"UP\"\n",
    "\n",
    "\n",
    "enr_dw.res2d['UP_DW'] = \"DOWN\"\n",
    "enr_res = pd.concat([enr_up.res2d.head(), enr_dw.res2d.head()])\n",
    "\n",
    "from gseapy.scipalette import SciPalette\n",
    "sci = SciPalette()\n",
    "NbDr = sci.create_colormap()\n",
    "# NbDr\n",
    "\n",
    "# display multi-datasets\n",
    "ax = gp.dotplot(enr_res,figsize=(3,5),\n",
    "                x='UP_DW',\n",
    "                x_order = [\"UP\",\"DOWN\"],\n",
    "                title=\"GO_BP\",\n",
    "                cmap = NbDr.reversed(),\n",
    "                size=3,\n",
    "                show_ring=True)\n",
    "ax.set_xlabel(\"\")\n",
    "plt.show()\n",
    "\n",
    "ax = gp.barplot(enr_res, figsize=(3,5),\n",
    "                group ='UP_DW',\n",
    "                title =\"GO_BP\",\n",
    "                color = ['b','r'])"
   ]
  },
  {
   "cell_type": "code",
   "execution_count": null,
   "id": "9d8522c2-329f-4614-8e81-6def3a07897b",
   "metadata": {},
   "outputs": [],
   "source": [
    "# Subset to RGCs\n",
    "\n",
    "for age_tag, subset_age_df in data.obs.groupby([\"age\"]):\n",
    "    subset_data_age = data[subset_age_df.index, :].copy()\n",
    "    subset_data_rgc = subset_data_age[subset_data_age.obs['cell_type'] == \"Radial glial cells\", :].copy()\n",
    "    sc.tl.rank_genes_groups(subset_data_rgc, groupby=\"genotype\", use_raw=False, method='wilcoxon', key=['RGC_Genotypes'],reference='Con', pval_cutoff=0.05)"
   ]
  },
  {
   "cell_type": "code",
   "execution_count": null,
   "id": "c8c795e4-07ed-4c8f-9e02-d3e2ef349b5a",
   "metadata": {},
   "outputs": [],
   "source": [
    "# get deg result\n",
    "result = data.uns['rank_genes_groups']\n",
    "groups = result['names'].dtype.names\n",
    "degs = pd.DataFrame(\n",
    "    {group + '_' + key: result[key][group]\n",
    "    for group in groups for key in ['names','scores', 'pvals','pvals_adj','logfoldchanges']})\n",
    "\n",
    "degs.head()"
   ]
  },
  {
   "cell_type": "code",
   "execution_count": null,
   "id": "dc9318d1-caa5-493e-9d8c-f1c390773151",
   "metadata": {},
   "outputs": [],
   "source": [
    "# subset up or down regulated genes\n",
    "degs_sig = degs[degs.Hom_pvals_adj < 0.05]\n",
    "rgc_degs_up = degs_sig[degs_sig.Hom_logfoldchanges > 0]\n",
    "rgc_degs_dw = degs_sig[degs_sig.Hom_logfoldchanges < 0]"
   ]
  },
  {
   "cell_type": "code",
   "execution_count": null,
   "id": "ab5c89b7-731e-4b2d-9d2f-b61ff6101979",
   "metadata": {},
   "outputs": [],
   "source": [
    "rgc_degs_up.shape"
   ]
  },
  {
   "cell_type": "code",
   "execution_count": null,
   "id": "5d9a102a-74d3-4d3a-a52a-2e27e5411a03",
   "metadata": {},
   "outputs": [],
   "source": [
    "rgc_degs_dw.shape"
   ]
  },
  {
   "cell_type": "code",
   "execution_count": null,
   "id": "5f42e272-3444-4ef8-b859-b00058a5fef8",
   "metadata": {},
   "outputs": [],
   "source": [
    "#GO_Biological_Process_2021\n",
    "\n",
    "# Enricr API\n",
    "enr_up = gp.enrichr(rgc_degs_up.Hom_names,\n",
    "                    gene_sets='Mouse_Gene_Atlas',\n",
    "                    outdir=None)"
   ]
  },
  {
   "cell_type": "code",
   "execution_count": null,
   "id": "dabe7f86-50ee-4cc6-958e-a184c8b36ff0",
   "metadata": {},
   "outputs": [],
   "source": [
    "\n",
    "# trim (go:...)\n",
    "enr_up.res2d.Term = enr_up.res2d.Term.str.split(\" \\(GO\").str[0]\n",
    "\n",
    "# dotplot\n",
    "gp.dotplot(enr_up.res2d, figsize=(3,5), title=\"Up\", cmap = plt.cm.autumn_r)\n",
    "plt.show()\n",
    "\n",
    "enr_dw = gp.enrichr(rgc_degs_dw.Hom_names,\n",
    "                    gene_sets='Mouse_Gene_Atlas',\n",
    "                    outdir=None)\n",
    "\n",
    "\n",
    "enr_dw.res2d.Term = enr_dw.res2d.Term.str.split(\" \\(GO\").str[0]\n",
    "gp.dotplot(enr_dw.res2d,\n",
    "           figsize=(3,5),\n",
    "           title=\"Down\",\n",
    "           cmap = plt.cm.winter_r,\n",
    "           size=5)\n",
    "plt.show()\n",
    "\n",
    "# concat results\n",
    "enr_up.res2d['UP_DW'] = \"UP\"\n",
    "\n",
    "\n",
    "enr_dw.res2d['UP_DW'] = \"DOWN\"\n",
    "enr_res = pd.concat([enr_up.res2d.head(), enr_dw.res2d.head()])\n",
    "\n",
    "from gseapy.scipalette import SciPalette\n",
    "sci = SciPalette()\n",
    "NbDr = sci.create_colormap()\n",
    "# NbDr\n",
    "\n",
    "# display multi-datasets\n",
    "ax = gp.dotplot(enr_res,figsize=(3,5),\n",
    "                x='UP_DW',\n",
    "                x_order = [\"UP\",\"DOWN\"],\n",
    "                title=\"GO_BP\",\n",
    "                cmap = NbDr.reversed(),\n",
    "                size=3,\n",
    "                show_ring=True)\n",
    "ax.set_xlabel(\"\")\n",
    "plt.show()\n",
    "\n",
    "ax = gp.barplot(enr_res, figsize=(3,5),\n",
    "                group ='UP_DW',\n",
    "                title =\"GO_BP\",\n",
    "                color = ['b','r'])"
   ]
  },
  {
   "cell_type": "code",
   "execution_count": null,
   "id": "2426d48e-9277-49f7-a372-6ab9c4f85d2f",
   "metadata": {},
   "outputs": [],
   "source": []
  },
  {
   "cell_type": "code",
   "execution_count": null,
   "id": "5c607dfa-fe2c-4b6a-bd66-7e81b9072b82",
   "metadata": {},
   "outputs": [],
   "source": []
  },
  {
   "cell_type": "code",
   "execution_count": null,
   "id": "f81fabea-0e96-4480-9dde-03dc8ec4d076",
   "metadata": {},
   "outputs": [],
   "source": []
  },
  {
   "cell_type": "markdown",
   "id": "e72ed36d-16ed-4d81-bdae-a0c5261d66d7",
   "metadata": {},
   "source": [
    "### GEX dot plots"
   ]
  },
  {
   "cell_type": "code",
   "execution_count": null,
   "id": "f38f8e3f-2571-4344-bfaa-cd754ac7cb3d",
   "metadata": {},
   "outputs": [],
   "source": [
    "# Evaluate collated markers in dictionary (from three papers)\n",
    "\n",
    "marker_genes_by_cell_type = {\n",
    "    'Neuroepithelial cells': ('Wnt8b', 'Hmga2', 'Top2a', 'Ube2c', 'Id4'),\n",
    "    'Radial glial cells': ('Top2a', 'Ube2c', 'Id4','Pax6'),\n",
    "    'Intermediate progenitor\\n cellss': ('Btg2', 'Eomes','Id4', 'Top2a', 'Hes5', 'Pax6', 'Sox2'),\n",
    "    'Neurons - Immature': ('Nrp1','Neurod6', 'Tubb3', 'Grin2a'),\n",
    "    'Neurons - Layer II - III ': ('Cux1', 'Cux2',),\n",
    "    'Neurons - Layer II – IV ': ('Satb2',),\n",
    "    'Neurons - Layer V – VI ': ('Bcl11b',),\n",
    "    'Cajal-Retzius cells': ('Reln'),\n",
    "    'Interneurons': ('Adarb2', 'Bcl11b', 'Gad2'),\n",
    "    'Oligodendroyte IPCs': ('Sox10', 'Cspg4'),\n",
    "    'Oligodendrocytes': ('Pdgfra',),\n",
    "    'Astrocytes': ('Aldh1l1', 'Slc1a3', 'S100b', 'Apoe', 'Gfap', 'Aldoc'),\n",
    "    'Microglia': ('Tyrobp'),\n",
    "    'Endothelial': ('Cldn5', 'Igfbp7', 'Rgs5'),\n",
    "    'Pericyte': ('Col3a1',)\n",
    "\n",
    "}"
   ]
  },
  {
   "cell_type": "code",
   "execution_count": null,
   "id": "a0c6b09d-e3d3-4bcc-8b9f-b27c6ff0530b",
   "metadata": {},
   "outputs": [],
   "source": [
    "# Make a dotplot of labelled celltypes compared to marker gene canonical cell types (defined by lit)\n",
    "\n",
    "sc.pl.dotplot(data, var_names=marker_genes_by_cell_type, groupby=['cell_type'])\n",
    "\n",
    "sc.pl.dotplot(data, var_names=marker_genes_by_cell_type, groupby=['cell_type', 'genotype'])\n",
    "\n",
    "\n",
    "# left: my cell types \n",
    "# top: marker gene cell types\n",
    "# bottom: marker genes defined by lit "
   ]
  },
  {
   "cell_type": "code",
   "execution_count": null,
   "id": "08a9ae86-cfdf-4bc7-9e52-53b0d17e9a02",
   "metadata": {
    "scrolled": true
   },
   "outputs": [],
   "source": [
    "# Loop through list of age related references \n",
    "for x in age_references:\n",
    "    # Extract labels from data\n",
    "    labels = data.obs[x]\n",
    "    \n",
    "    # Convert labels to integers using pd.factorize\n",
    "    label_integers, _ = pd.factorize(labels)\n",
    "    \n",
    "    # Compute silhouette score\n",
    "    silhouette = silhouette_score(data.obsm['X_spectral'], label_integers, metric='cosine')\n",
    "    \n",
    "    # Print the result\n",
    "    #print(x + ' ' + str(silhouette))\n",
    "\n",
    "# label_dibella_2021_E13.5 0.19329716666848698\n",
    "# label_zhang_2021_E14.5 0.09768439100479863\n",
    "# label_loo_2019_E14.5 0.12570426820771097\n",
    "# label_dibella_2021_E14.5 0.0827230839703915\n",
    "# label_dibella_2021_E17.5 -0.11572978932738838\n",
    "# label_zhang_2021_E18.5 0.061716785633409314\n",
    "# label_dibella_2021_E18.5b -0.0054670941269754515\n",
    "# label_dibella_2021_E18.5a -0.13035388402899664\n",
    "\n",
    "sc.pl.dotplot(data, var_names=marker_genes_by_cell_type, groupby=[x], title=x + ' ' + str(silhouette), colorbar_title='Mean gene expression\\nin cell-type group')"
   ]
  },
  {
   "cell_type": "code",
   "execution_count": null,
   "id": "71bfdae4-ee36-4cef-a0d6-dd4d4ad45278",
   "metadata": {},
   "outputs": [],
   "source": [
    "# Compare to own score \n",
    "\n",
    "silhouette_score(data.obsm['X_spectral'], data.obs[\"cell_type\"], metric='cosine')"
   ]
  },
  {
   "cell_type": "markdown",
   "id": "60deb32b-3f5c-4834-943f-bae49e41899d",
   "metadata": {},
   "source": [
    "### Cellbender effectiveness evaluation"
   ]
  },
  {
   "cell_type": "code",
   "execution_count": null,
   "id": "a4082826-d559-4a7b-8359-afd39da4ec4d",
   "metadata": {},
   "outputs": [],
   "source": [
    "# Evaluate CellBender with before vs. after plots \n",
    "\n",
    "#Before: \n",
    "sc.pl.dotplot(data, marker_genes_by_cell_type, groupby=['cell_type'], layer='raw')\n",
    "\n",
    "# Rows look similar to each other in their expression level "
   ]
  },
  {
   "cell_type": "code",
   "execution_count": null,
   "id": "b0634259-9695-4475-bd05-d584cbf4c847",
   "metadata": {},
   "outputs": [],
   "source": [
    "# After Cellbender \n",
    "\n",
    "sc.pl.dotplot(data, marker_genes_by_cell_type, groupby=['cell_type'])\n",
    "\n",
    "# reduced expression of off-target genes, more distinct expression per cluster. Each row looks more unique"
   ]
  },
  {
   "cell_type": "markdown",
   "id": "1943bd3f-5af0-42c7-8b22-78c4649bb340",
   "metadata": {},
   "source": [
    "### Age classifications of marker gene dictionaries"
   ]
  },
  {
   "cell_type": "code",
   "execution_count": null,
   "id": "5e56fb1b-6215-4e94-8a4f-3c23d4efa514",
   "metadata": {},
   "outputs": [],
   "source": [
    "# UPDATED \n",
    "\n",
    "cluster_cell_type_dict_14 = {\n",
    "    '0': 'Immature neurons',\n",
    "    '1': 'Progenitor cells',\n",
    "    '2': 'Immature neurons',\n",
    "    '3': 'Progenitor cells',\n",
    "    '4': 'Interneurons',\n",
    "    '5': 'Immature neurons',\n",
    "    '6': 'Immature neurons',\n",
    "    '7': 'Interneurons',\n",
    "    '8': 'Immature neurons',\n",
    "    '9': 'Immature neurons',\n",
    "    '10': 'Progenitor cells',\n",
    "    '11': 'Immature neurons',\n",
    "    '12': 'Immature neurons',\n",
    "    '13': 'Interneurons',\n",
    "    '14': 'Immature neurons',\n",
    "    '15': 'Progenitor cells',\n",
    "    '16': 'Immature neurons',\n",
    "    '17': 'Pericytes',\n",
    "    '18': 'Interneurons',\n",
    "    '19': 'Cajal-Retzius cells',\n",
    "    '20': 'Neurons',\n",
    "    '21': 'Endothelial cells',\n",
    "    '22': 'Microglial cells',\n",
    "    '23': 'Oligodendrocyte progenitor cells',\n",
    "}\n",
    "\n",
    "# Define a dictionary to map cell types to colors\n",
    "E14_cell_type_colors = {\n",
    "    'Immature neurons': 'red',\n",
    "    'Progenitor cells': 'orange',\n",
    "    'Neurons': 'yellow',\n",
    "    'Interneurons': 'green',\n",
    "    'Pericytes': 'purple',\n",
    "    'Cajal-Retzius cells': 'cyan',\n",
    "    'Endothelial cells': 'magenta',\n",
    "    'Microglial cells': 'blue',\n",
    "    'Astrocytes': 'brown',\n",
    "    'Oligodendrocyte progenitor cells':'grey'\n",
    "}\n",
    "\n",
    "for age_tag in data.obs[\"age\"].unique():\n",
    "    if age_tag == 14:\n",
    "        for sample_tag in data.obs[\"genotype\"].unique():\n",
    "            subset_data = data[data.obs[\"genotype\"] == sample_tag]\n",
    "            subset_data.obs['cell_type'] = subset_data.obs['leiden'].map(cluster_cell_type_dict_14[age_tag])\n",
    "            print(subset_data)\n",
    "            # Map the cell types to colors\n",
    "            subset_data.uns['E14_cell_type_colors'] = {cell_type: E14_cell_type_colors[cell_type] for cell_type in subset_data.obs['cell_type'].unique()}\n",
    "            \n",
    "            sc.pl.umap(subset_data, color=['cell_type'], title=age_tag + ' ' + sample_tag + ' Cell Types', frameon=False, palette = E14_cell_type_colors)\n",
    "            #snap.pl.umap(subset_data, color=['cell_type'])"
   ]
  },
  {
   "cell_type": "code",
   "execution_count": null,
   "id": "e2f2924a-5fd1-4bd9-bd63-3298806b30a3",
   "metadata": {},
   "outputs": [],
   "source": [
    "#E18\n",
    "\n",
    "# UPDATED \n",
    "\n",
    "# Define a dictionary to map cell types to leiden clusters\n",
    "cluster_cell_type_dict_18 = {\n",
    "        '0': 'Neurons',\n",
    "        '1': 'Progenitor cells',\n",
    "        '2': 'Neurons',\n",
    "        '3': 'Interneurons',\n",
    "        '4': 'Neurons',\n",
    "        '5': 'Neurons',\n",
    "        '6': 'Neurons',\n",
    "        '7': 'Interneurons',\n",
    "        '8': 'Neurons',\n",
    "        '9': 'Neurons',\n",
    "        '10': 'Neurons',\n",
    "        '11': 'Interneurons',\n",
    "        '12': 'Neurons',\n",
    "        '13': 'Interneurons',\n",
    "        '14': 'Neurons',\n",
    "        '15': 'Astrocytes',\n",
    "        '16': 'Neurons',\n",
    "        '17': 'Pericytes',\n",
    "        '18': 'Interneurons',\n",
    "        '19': 'Cajal-Retzius cells',\n",
    "        '20': 'Neurons',\n",
    "        '21': 'Endothelial cells',\n",
    "        '22': 'Microglial cells',\n",
    "        '23': 'Oligodendrocytes',\n",
    "    }\n",
    "\n",
    "\n",
    "# Define a dictionary to map cell types to colors\n",
    "E18_cell_type_colors = {\n",
    "    'Immature neurons': 'red',\n",
    "    'Progenitor cells': 'orange',\n",
    "    'Neurons': 'yellow',\n",
    "    'Interneurons': 'green',\n",
    "    'Pericytes': 'purple',\n",
    "    'Cajal-Retzius cells': 'cyan',\n",
    "    'Endothelial cells': 'magenta',\n",
    "    'Microglial cells': 'blue',\n",
    "    'Astrocytes': 'brown',\n",
    "    'Oligodendrocytes': 'grey'\n",
    "}\n",
    "\n",
    "\n",
    "for age_tag in data.obs[\"age\"].unique():\n",
    "    if age_tag == 18:  # Only proceed if age_tag is 18\n",
    "        for sample_tag in data.obs[\"genotype\"].unique():\n",
    "            subset_data = data[data.obs[\"genotype\"] == sample_tag]\n",
    "            subset_data.obs['cell_type'] = subset_data.obs['leiden'].map(cluster_cell_type_dict_18[age_tag])\n",
    "            # Map the cell types to colors\n",
    "            subset_data.uns['E18_cell_type_colors'] = {cell_type: cell_type_colors[cell_type] for cell_type in subset_data.obs['cell_type'].unique()}\n",
    "            sc.pl.umap(subset_data, color=['age','condition'], title=str(age_tag) + ' ' + sample_tag + ' Cell Types', frameon=False, palette=E18_cell_type_colors)\n",
    "\n",
    "# for age_tag in data.obs[\"age\"].unique():\n",
    "#     for sample_tag in data.obs[\"genotype\"].unique():\n",
    "#         subset_data = data[data.obs[\"genotype\"] == sample_tag]\n",
    "#         subset_data.obs['cell_type'] = subset_data.obs['leiden'].map(cluster_cell_type_dict_18[age_tag])\n",
    "#         # Map the cell types to colors\n",
    "#         subset_data.uns['cell_type_colors'] = {cell_type: cell_type_colors[cell_type] for cell_type in subset_data.obs['cell_type'].unique()}\n",
    "#         sc.pl.umap(subset_data, color=['age','condition'], title=age_tag + ' ' + sample_tag + ' Cell Types', frameon=False, palette = E18_cell_type_colors)\n"
   ]
  },
  {
   "cell_type": "markdown",
   "id": "2176e7c5-12f8-4c48-93ee-ed46a098c071",
   "metadata": {},
   "source": [
    "## Marker gene plots"
   ]
  },
  {
   "cell_type": "code",
   "execution_count": null,
   "id": "840a97df-f45a-48af-8dfb-5c40c19209d0",
   "metadata": {},
   "outputs": [],
   "source": [
    "# Define your marker groups\n",
    "marker_groups = {\n",
    "    'cluster 1': ['ldn5', 'Flt1', 'Ptprm', 'Ptprg', 'Sptbn1', 'Tjp1'],\n",
    "    'cluster 2': ['Sox6', 'Npas3', 'Nfia', 'Qk', 'Mir9-3hg', 'Mir99ahg'],\n",
    "    'cluster 3': ['Ank3', 'Meg3', 'Snhg14', 'Fam155a', 'Erc2', 'Rims2'],\n",
    "    'cluster 4': ['Nfib', 'Sox5', 'Rbfox1', 'Ptprd', 'Nav3', 'Cdh13'],\n",
    "    'cluster 5': ['Sorbs2', 'Igfbpl1', 'Tcf4', 'Cacna2d1', 'Unc5d', 'Epha3'],\n",
    "    'cluster 6': ['Ebf1', 'Nrxn3', 'Bcl11b', 'Meg3', 'Robo1', 'Nrxn1'],\n",
    "    'cluster 7': ['Gad2', 'Nrxn3', 'Dlx6os1', 'Sox2ot', 'Gm38505', 'Gad1'],\n",
    "    'cluster 8': ['Erbb4', 'Nrxn3', 'Erbb4', 'Dlgap1', 'Xkr4', 'Gria4'],\n",
    "    'cluster 9': ['Gli3', 'Sox6', 'Creb5', 'Etl4', 'Cdon', 'Mir99ahg'],\n",
    "    'cluster 10': ['Dlc1', 'Prkg1', 'Ebf1', 'Itga1', 'Cald1', 'Plcl1'],\n",
    "    'cluster 11': ['Top2a', 'Mki67', 'Zbtb20', 'Diaph3', 'H2afz', 'Smc4'],\n",
    "    'cluster 12': ['Ptprd', 'Tafa1', 'Celf2', 'Adgrl3', 'Tafa2', 'Grin2b'],\n",
    "    'cluster 13': ['Rora', 'Fbxl7', 'Cped1', 'Sdk1', 'Colec12', 'Ror1'],\n",
    "    'cluster 14': ['Magi1', 'Setbp1', 'Dleu2', 'Mir99ahg', 'Nrg1', 'Sox6'],\n",
    "    'cluster 15': ['Adgrv1', 'Msi2', 'Zbtb20', 'Npas3', 'Qk', 'Mir99ahg'],\n",
    "    'cluster 16': ['Meis2', 'Nrxn3', 'Meis2', 'Ptprm', 'Dlg2', 'Bcl11b'],\n",
    "    'cluster 17': ['Nrg3', 'Ptprd', 'Mdga2', 'Nrxn1', 'Arpp21', 'Grin2b'],\n",
    "    'cluster 18': ['Reln', 'Dach1', 'Msi2', 'Cep112', 'Fat3', 'Maml3'],\n",
    "    'cluster 19': ['Slit3', 'Msra', 'Nrp1', 'Ank3', 'Nrxn1', 'Ntrk3'],\n",
    "    'cluster 20': ['Satb2', 'Dlg2', 'Arpp21', 'Frmd4a', 'Celf2', 'Ptprd'],\n",
    "    'cluster 21': ['Mbnl1', 'Lgmn', 'Apoe', 'Slc9a9', 'C1qb', 'Maf'],\n",
    "    'cluster 22': ['Nxph1', 'Nrxn3', 'Erbb4', 'Nxph1', 'Gria4', 'Sox2ot'],\n",
    "    'cluster 23': ['Ptn', 'Ptprz1', 'Tnc', 'Qk', 'Slc1a3', 'Zbtb20'],\n",
    "    'cluster 24': ['Unc5d', 'Meis2', 'Igfbpl1', 'Nrg1', 'Trim2', 'Mir99ahg'],\n",
    "    'cluster 25': ['Frmd4a', 'Gria2', 'Satb2', 'Rbfox1', 'Ttc28', 'Frmd4b'],\n",
    "    'cluster 26': ['Nav3', 'Ptprd', 'Nrg3', 'Celf2', 'Arpp21', 'Lrfn5']\n",
    "}\n",
    "\n",
    "# Convert marker groups dictionary to a DataFrame\n",
    "cluster_data = []\n",
    "for cluster, markers in marker_groups.items():\n",
    "    marker_string = ', '.join(markers)\n",
    "    cluster_data.append([cluster, marker_string])\n",
    "\n",
    "# Create DataFrame\n",
    "cluster_df = pd.DataFrame(cluster_data, columns=['Cluster', 'Markers'])\n",
    "\n",
    "# Display the DataFrame\n",
    "print(cluster_df)\n"
   ]
  },
  {
   "cell_type": "code",
   "execution_count": null,
   "id": "3848a270-867d-43f2-9b00-55f56f76bea9",
   "metadata": {},
   "outputs": [],
   "source": [
    "# Generating marker gene plots using your canonical markers and grouping by each of the label sets - and if you can group by multiple columns (not sure if this is possible) you should group by age and maybe con Vs hom too\n",
    "\n",
    "# Ruan reference \n",
    "\n",
    "Ruan_marker_genes_by_cell_type = {\n",
    "    'NEC': ['Wnt8b', 'Hmga2', 'Top2a', 'Ube2c', 'Id4'],\n",
    "    'RGC': ['Top2a', 'Ube2c', 'Id4', 'Pou3f2', 'Zbtb20'],\n",
    "    'IPC': ['Top2a', 'Ube2c', 'Id4', 'Eomes', 'Neurog2', 'Neurod1'],\n",
    "    'Immature neurons': ['Neurod1'],\n",
    "    'Layer II – IV neurons': ['Satb2'],\n",
    "    'Layer V – VI neurons': ['Bcl11b'],\n",
    "    'Hippocampus': ['Tle4', 'Bcl11b'],\n",
    "    'Layer I neurons': ['Neurod1', 'Bcl11b', 'Crym'],\n",
    "    'Interneurons': ['Bcl11b', 'Dlx1'],\n",
    "    'OPC': ['Top2a', 'Id4', 'Olig1'],\n",
    "    'Pia': ['Top2a', 'Hmga2', 'Ube2c', 'Col3a1'],\n",
    "    'Pericyte': ['Top2a', 'Ube2c', 'Col3a1', 'Rgs5'],\n",
    "    'Microglia': ['Top2a', 'Ube2c', 'Tle4', 'Tyrobp'],\n",
    "    'Endothelial': ['Cldn5']\n",
    "}\n",
    "\n",
    "# Dibella reference \n",
    "Dibella_marker_genes_by_cell_type = {\n",
    "    'Apical progenitors': ['Sox2'],\n",
    "    'Intermediate progenitors': ['Eomes'],\n",
    "    'Migrating neurons': ['Nrp1'],\n",
    "    'Neurons': ['Tubb3'],\n",
    "    'Callosal PN': ['Satb2'],\n",
    "    'Layer II & III callosal PN': ['Cux2'],\n",
    "    'Subcerebral PN': ['Bcl11b'],\n",
    "    'Corticothalamic PN': ['Tle4'],\n",
    "    'Cajal-Retzius cells': ['Reln'],\n",
    "    'Interneurons': ['Dlx2'],\n",
    "    'Oligodendrocytes': ['Pdgfra'],\n",
    "    'Astrocytes': ['Apoe'],\n",
    "    'Endothelial cells': ['Cldn5'],\n",
    "    'Microglia': ['Aif1'],\n",
    "    'Red blood cells': ['Car2'],\n",
    "    'VLMC': ['Col1a1']\n",
    "}\n",
    "\n",
    "# Loo reference \n",
    "Loo_marker_genes_by_cell_type = ['Hes1', 'Sox2', 'Neurog2', 'Eomes', 'Btg2', 'Igfbpl1', 'Pcp4', 'Nrp1', 'Neurod2', 'Neurod1', 'Unc5d', 'Sema3c', 'Tbr1', 'Bcl11b', 'Tubb3', 'Sox5', 'Fezf2', 'Reln', 'Calb2', 'Emx2', 'Lhx5', 'Tle4', 'Tshz2', 'Ldb2', 'Etv1', 'Nr4a2', 'Rorb', 'Lpl', 'Ptn', 'Satb2', 'Cux1', 'Dlx1', 'Gad2', 'Lhx6', 'Cux2', 'Apoe', 'Aldoc', 'Slc1a3', 'Olig1', 'Pdgfra', 'Olig2']\n",
    "\n",
    "\n",
    "# Ordered list of paper marker genes + canonical markers \n",
    "\n",
    "#paper_list = ['Neurod6', 'Satb2', 'Bcl11b', 'Gad2', 'Lhx1', 'Reln', 'Trp73', 'Lhx5', 'Mki67', 'Bmp2', 'Ascl1', 'Olig2', 'Lhx1', 'Wnt7b', 'Eomes','Foxp2','Hoxb3', 'Hap1', 'Nkx2-1', 'Sez6l2', 'Tbx20', 'Nfib', 'Cntn1','Dcx']\n",
    "Loo_gene_names = ['Gad2', 'Reln', 'Bcl11b', 'Satb2', 'Sox5', 'Hbb-bs','Dcx', 'Fezf2', 'Neurod6', 'Gad2', 'Bcl11b', 'Satb2', 'Foxp2', 'Nrgn', 'Inhba', 'Top2a', 'Mki67','Lhx1', 'Reln', 'Trp73', 'Lhx5', 'Nxph1', 'Maf', 'Erbb4', 'Sst', 'Npy', 'Aqp4', 'Aldoc', 'Aldh1l1', 'Slc1a3', 'Slc6a11', 'Hes1', 'Hes5', 'Tbr1', 'Eomes',  'Bmp2', 'Pax6', 'Nfib', 'Cntn1', 'Ednrb','Trem2', 'Mpeg1', 'P2ry12', 'Epas1', 'Emcn', 'Olig1', 'Olig2']\n",
    "# not present: 'Pvrl3', 'Int1', 'Int2'Int3Int4Pou3fl\n",
    "\n",
    "Loo_E18_genes = ['Neurod6', 'Nes', 'Slc17a6', 'Vim', 'Slc17a6', 'Bcl11b', 'Fezf2', 'Tbr1', 'Reln', 'Trp73', 'Lhx1', 'Lhx5', 'Satb2', 'Dok5', 'Inhba', 'Nrgn', 'Lpl', 'Nxph3', 'Hs3st4', 'Tfap2d', 'Rwdd3', 'Eomes', 'Sema3c', 'Neurod1', 'Unc5d', 'Calb2', 'Crym', 'Dlx1', 'Dlx2', 'Gad1', 'Gad2', 'Lhx6', 'Nxph1', 'Lhx8', 'Resp18', 'Htr3a', 'Adarb2', 'Tiam2', 'Isl1', 'Syt6', 'Gpr88', 'Rxrg', 'Mki67', 'Top2a', 'Spag5', 'Ccna2', 'Aqp4', 'Aldh1l1', 'Hes1', 'Hes5', 'Entpd2', 'Pla2g3', 'Olig2', 'Pdgfra', 'Dnah12', 'Iqca', 'Ak7', 'Folr1', 'Kcne2', 'Otx2', 'Trem2', 'Mpeg1', 'Igfbp7', 'Epas1', 'Ushbp1', 'Col3a1', 'Abcc9', 'Kcnj8']\n",
    "#not present: Pcam1, Sgol2\n",
    "Loo_E14_genes = ['Neurod6', 'Nes', 'Slc17a6', 'Vim', 'Slc17a6', 'Bcl11b', 'Fezf2', 'Tbr1', 'Reln', 'Trp73', 'Lhx1', 'Lhx5', 'Crym', 'Ndrg1', 'Mc4r', 'Nfe2l3', 'Nxph3', 'Sla', 'Sybu', 'Tfap2d', 'Rwdd3', 'Ppp1r14c', 'Satb2', 'Cux2', 'Eomes', 'Tiam2', 'Pdzrn3', 'Nhlh1', 'Unc5d', 'Calb2', 'Dlx1', 'Dlx2', 'Top2a', 'Mki67', 'Btbd17', 'Spag5', 'Ednrb', 'Tk1', 'Tcf19', 'Pkmyt1', 'Arhgef39', 'Rspo1', 'Dlx1', 'Dlx2', 'Gad1', 'Lhx6', 'Nxph1', 'Gad2', 'Dkk3', 'Pnoc', 'Isl1', 'Syt6', 'Gpr88', 'Rxrg', 'Shox2', 'Syt13', 'Ak7', 'Folr1', 'Foxj1', 'Kcne2', 'Otx2', 'Mpeg1', 'Igfbp7', 'Epas1', 'Pecam1', 'Col3a1']\n",
    "\n",
    "combined_marker_gene_list = []"
   ]
  },
  {
   "cell_type": "markdown",
   "id": "0b6135e2-c484-4dbb-bc66-203e7fa9ec42",
   "metadata": {},
   "source": [
    "### Gene Expression Plots"
   ]
  },
  {
   "cell_type": "code",
   "execution_count": null,
   "id": "95ef8ec0-9130-438a-b665-9d1ccbe5236d",
   "metadata": {},
   "outputs": [],
   "source": [
    "# Evaluate collated markers in dictionary (from three papers\n",
    "\n",
    "\n",
    "marker_genes_by_cell_type = {\n",
    "    'Neural stem cells': ('Wnt8b', 'Hmga2', 'Top2a', 'Ube2c', 'Id4'),\n",
    "    'Radial glial cells': ('Top2a', 'Ube2c', 'Id4', 'Pax6'),\n",
    "    'Intermediate progenitors': ('Top2a', 'Ube2c', 'Id4', 'Eomes', 'Neurog2', 'Neurod1'),\n",
    "    'Apical progenitors': ('Sox2', 'Pax6', 'Hes5'),\n",
    "    'Migrating neurons': ('Nrp1',),\n",
    "    'Neurons': ('Tubb3',),\n",
    "    'Layer I neurons': ('Bcl11b', 'Crym'),\n",
    "    'Layer II & III callosal PN': ('Cux2',),\n",
    "    'Layer II – IV neurons': ('Satb2',),\n",
    "    'Layer V – VI neurons': ('Bcl11b',),\n",
    "    'Excitatory neurons': ('Neurod6',),\n",
    "    'Interneurons': ('Bcl11b', 'Dlx1', 'Sst', 'Gad2', 'Adarb2', 'Isl1'),\n",
    "    'Subcerebral PN': ('Bcl11b',),\n",
    "    'Corticothalamic PN': ('Tle4',),\n",
    "    'Hippocampus': ('Tle4', 'Bcl11b'),\n",
    "    'Proliferating cells': ('Mki67',),\n",
    "    'Oligodendroyte progenitor cells': ('Top2a', 'Id4', 'Olig1'),\n",
    "    'Oligodendrocytes': ('Pdgfra',),\n",
    "    'Astrocytes': ('Apoe', 'Hes5', 'Aldh1l1', 'Slc1a3'),\n",
    "    'Microglia': ('Top2a', 'Ube2c', 'Tle4', 'Tyrobp'),\n",
    "    'Endothelial': ('Cldn5', 'Igfbp7'),\n",
    "    'Pia': ('Top2a', 'Hmga2', 'Ube2c', 'Col3a1'),\n",
    "    'Pericyte': ('Top2a', 'Ube2c', 'Col3a1', 'Rgs5'),\n",
    "    'Cajal-Retzius cells': ('Reln', 'Wnt8b'),\n",
    "    'Red blood cells': ('Car2','Hemgn')\n",
    "}\n",
    "\n",
    "# Make a dotplot of labelled celltypes compared to marker gene canonical cell types (defined by lit)\n",
    "\n",
    "sc.pl.dotplot(data, var_names=marker_genes_by_cell_type, groupby=['cell_type'], dendrogram=True)\n",
    "\n",
    "sc.pl.dotplot(data, var_names=marker_genes_by_cell_type, groupby=['cell_type', 'age'])\n",
    "\n",
    "\n",
    "# left: my cell types \n",
    "# top: marker gene cell types\n",
    "# bottom: marker genes defined by lit "
   ]
  },
  {
   "cell_type": "code",
   "execution_count": null,
   "id": "3e161593-1527-4481-8eb5-237a6f0c1db5",
   "metadata": {},
   "outputs": [],
   "source": [
    "# Make a dotplot of labelled celltypes compared to marker gene canonical cell types (defined by lit)\n",
    "\n",
    "sc.pl.dotplot(data, var_names=marker_genes_by_cell_type, groupby=['cell_type'], dendrogram=True)\n",
    "\n",
    "sc.pl.dotplot(data, var_names=marker_genes_by_cell_type, groupby=['cell_type', 'age'])\n",
    "\n",
    "\n",
    "# left: my cell types \n",
    "# top: marker gene cell types\n",
    "# bottom: marker genes defined by lit "
   ]
  },
  {
   "cell_type": "code",
   "execution_count": null,
   "id": "bd8fa526-4072-4340-9134-04e32945a98f",
   "metadata": {},
   "outputs": [],
   "source": [
    "# Using merged list of canonical marker genes from the three papers, look at the label transfer labelling\n",
    "# Per reference, look at spectral leiden cluster labelling. Compare with UMAPS. \n",
    "for ref in age_references:\n",
    "    # Dynamically create the list of column names to group by\n",
    "    groupby_cols = [ref, \"age\", \"genotype\"]\n",
    "    \n",
    "    # Pass the list of column names directly to the `groupby` parameter\n",
    "    sc.pl.dotplot(data, var_names=marker_genes_by_cell_type, groupby=[ref, 'leiden'], title=ref)\n"
   ]
  },
  {
   "cell_type": "code",
   "execution_count": null,
   "id": "f09571a6-d71e-43e2-a3ef-a0db23699f19",
   "metadata": {},
   "outputs": [],
   "source": [
    "# Using merged list of canonical marker genes from the three papers, look at the label transfer labelling\n",
    "for ref in age_references:\n",
    "    # Dynamically create the list of column names to group by\n",
    "    groupby_cols = [ref, \"age\", \"genotype\"]\n",
    "    \n",
    "    # Pass the list of column names directly to the `groupby` parameter\n",
    "    sc.pl.dotplot(data, var_names=marker_genes_by_cell_type, groupby=[ref])\n"
   ]
  },
  {
   "cell_type": "code",
   "execution_count": null,
   "id": "e898b0ea-7be9-4bda-8ecc-08fbb05c328e",
   "metadata": {},
   "outputs": [],
   "source": [
    "# references = ['label_loo_2019_E14.5', 'label_loo_2019_P0', 'label_dibella_2021_E13.5', 'label_zhang_2021_E10.5', 'label_dibella_2021_E14.5', 'label_dibella_2021_E15.5', 'label_dibella_2021_E10.5', 'label_zhang_2021_E16.5', 'label_zhang_2021_E18.5', 'label_zhang_2021_E12.5', 'label_zhang_2021_E14.5', 'label_dibella_2021_E11.5', 'label_dibella_2021_E12.5', 'label_zhang_2021_E15.5', 'label_dibella_2021_E17.5', 'label_dibella_2021_E16.5', 'label_dibella_2021_E18.5b', 'label_dibella_2021_E18.5a']\n",
    "\n",
    "for x in references: \n",
    "    combined_column = (\n",
    "        data.obs['aAge'],\n",
    "        data.obs['condition'],\n",
    "        x\n",
    "    )\n",
    "    # Create a new column with the combined information\n",
    "    data.obs['label_age_condition'] = combined_column\n",
    "\n",
    "    # Plot marker gene expression grouped by reference\n",
    "    sc.pl.dotplot(data, marker_genes_by_cell_type, groupby=\"label_age_condition\")\n",
    "\n",
    "\n",
    "#for every leiden cluster, look at where it is on the UMAP. What cell types are in the same position on UMAP. Look at gene exp of cluster compared to reference. \n",
    "#leiden cluster goes across multiple cell types (per references), go to marker gene expression and decide which to trust. \n",
    "# save cluster annotation into a h5ad file leiden clustering. add save step to end of workflow to post=processed h5ad. final step, once have done leiden clustering. save again once assigned clusters to labels. save what cells below to cluster 1 and 2. "
   ]
  },
  {
   "cell_type": "code",
   "execution_count": null,
   "id": "6678ba92-83df-4e72-a782-d7cea2a7d287",
   "metadata": {},
   "outputs": [],
   "source": [
    "for x in age_references: \n",
    "    sc.pl.dotplot(data, var_names=marker_genes_by_cell_type, groupby=[x,'leiden'], title=x)"
   ]
  },
  {
   "cell_type": "code",
   "execution_count": null,
   "id": "4e32e41a-3f85-4773-9353-acfe41593003",
   "metadata": {},
   "outputs": [],
   "source": [
    "# Create a column with merged age and condition to groupby these two together \n",
    "for x in age_references: \n",
    "    combined_column = data.obs['age'].astype(str) + '_' + data.obs['condition'].astype(str) + '_' + [x]\n",
    "\n",
    "# Create a new column with the combined information\n",
    "    data.obs['label_age_condition'] = combined_column\n",
    "#Plot marker gene expression grouped by reference\n",
    "    sc.pl.dotplot(data, marker_genes_by_cell_type, groupby=\"label_age_condition\")"
   ]
  },
  {
   "cell_type": "markdown",
   "id": "363ef401-bc03-4011-b039-286143a00b36",
   "metadata": {},
   "source": [
    "### Cellbender evaluation"
   ]
  },
  {
   "cell_type": "code",
   "execution_count": null,
   "id": "a0488963-f5a3-4dee-aec0-def3bda3775e",
   "metadata": {},
   "outputs": [],
   "source": [
    "# Evaluate CellBender with before vs. after plots \n",
    "\n",
    "#Before: \n",
    "sc.pl.dotplot(data, marker_genes_by_cell_type, groupby=['cell_type'], layer='raw')\n",
    "\n",
    "# Rows look similar to each other in their expression level "
   ]
  },
  {
   "cell_type": "code",
   "execution_count": null,
   "id": "0f90579d-9fed-42c6-bb66-ae7a6ee64ee0",
   "metadata": {},
   "outputs": [],
   "source": [
    "# Evaluate CellBender with before vs. after plots \n",
    "\n",
    "#Before: \n",
    "sc.pl.dotplot(data, marker_genes_by_cell_type, groupby=['cell_type'], layer='raw')\n",
    "\n",
    "# Rows look similar to each other in their expression level \n",
    "\n",
    "# After Cellbender \n",
    "\n",
    "sc.pl.dotplot(data, marker_genes_by_cell_type, groupby=['cell_type'])\n",
    "\n",
    "# reduced expression of off-target genes, more distinct expression per cluster. Each row looks more unique"
   ]
  },
  {
   "cell_type": "markdown",
   "id": "c8919bf6-5e78-45eb-bc4d-67fa422b1f1f",
   "metadata": {},
   "source": [
    "### GEX Dotplots"
   ]
  },
  {
   "cell_type": "code",
   "execution_count": null,
   "id": "87df6608-97c0-43c5-89d8-fa57ac687cda",
   "metadata": {},
   "outputs": [],
   "source": [
    "# make gene expression dot plots using the markers from literature but grouping by transferred labels (and maybe age if you're able to group by two columns), which will give you an idea of how consistent the transferred labels are"
   ]
  },
  {
   "cell_type": "code",
   "execution_count": null,
   "id": "b209ca60-d684-4b47-a18f-89ff85c651f2",
   "metadata": {},
   "outputs": [],
   "source": [
    "sc.tl.rank_genes_groups(data, groupby=\"label_loo_2019_E14.5\")"
   ]
  },
  {
   "cell_type": "code",
   "execution_count": null,
   "id": "0e004ef1-d3de-42ee-b879-73024b60bff7",
   "metadata": {},
   "outputs": [],
   "source": [
    "sc.pl.umap(data, color=[\"sample\", \"label_loo_2019_E14.5\"])"
   ]
  },
  {
   "cell_type": "code",
   "execution_count": null,
   "id": "1bb86bbb-97bb-45a8-b45c-f20e0fc6eb5b",
   "metadata": {},
   "outputs": [],
   "source": [
    "interesting_genes = [\"Nsd1\", \"Eomes\", \"Pax6\", \"Ki67\", \"pHH3\", \"CC3\"]\n",
    "\n",
    "marker_set = set(np.array([x for x in data.uns[f\"{clustering_key}_markers\"].values()]).flatten()) - set(interesting_genes)"
   ]
  },
  {
   "cell_type": "code",
   "execution_count": null,
   "id": "8c84013e-ffc0-4878-be7b-9f979018571c",
   "metadata": {},
   "outputs": [],
   "source": [
    "sc.pl.dotplot(data, [*interesting_genes, *marker_set], groupby=\"source\")"
   ]
  },
  {
   "cell_type": "code",
   "execution_count": null,
   "id": "60e2f542-3480-4a49-ad20-10828032806f",
   "metadata": {},
   "outputs": [],
   "source": [
    "rank_data = data.uns[\"rank_genes_groups\"]\n",
    "\n",
    "df = pd.concat(\n",
    "    [\n",
    "        pd.DataFrame({\n",
    "            \"cluster\": cluster,\n",
    "            \"gene\": rank_data[\"names\"][cluster],\n",
    "            \"pvals_adj\": rank_data[\"pvals_adj\"][cluster],\n",
    "            \"logfc\": rank_data[\"logfoldchanges\"][cluster]\n",
    "        })\n",
    "        for cluster in rank_data[\"names\"].dtype.names\n",
    "    ],\n",
    "    ignore_index=True\n",
    ")\n",
    "\n",
    "print(\"\\n\".join(df[(df.cluster == \"1\") & (df.pvals_adj < 0.05) & (df.logfc > 0)].sort_values(\"logfc\").tail(10)[\"gene\"]))"
   ]
  },
  {
   "cell_type": "code",
   "execution_count": null,
   "id": "6b5be884-4209-4a58-9436-c8e6dd9dd181",
   "metadata": {
    "scrolled": true
   },
   "outputs": [],
   "source": [
    "# E14\n",
    "\n",
    "# Define a dictionary to map cell types to leiden clusters\n",
    "cluster_cell_type_dict_14 = {\n",
    "    '0': 'Immature neurons',\n",
    "    '1': 'Progenitor cells',\n",
    "    '2': 'Neurons',\n",
    "    '3': 'Progenitor cells',\n",
    "    '4': 'Interneurons',\n",
    "    '5': 'Neurons',\n",
    "    '6': 'Neurons',\n",
    "    '7': 'Interneurons',\n",
    "    '8': 'Interneurons',\n",
    "    '9': 'Progenitor cells',\n",
    "    '10': 'Progenitor cells',\n",
    "    '11': 'Neurons',\n",
    "    '12': 'Neurons',\n",
    "    '13': 'Interneurons',\n",
    "    '14': 'Neurons',\n",
    "    '15': 'Progenitor cells',\n",
    "    '16': 'Neurons',\n",
    "    '17': 'Pericytes',\n",
    "    '18': 'Interneurons',\n",
    "    '19': 'Cajal-Retzius cells',\n",
    "    '20': 'Neurons',\n",
    "    '21': 'Endothelial cells',\n",
    "    '22': 'Microglial cells',\n",
    "    '23': 'Progenitor cells',\n",
    "}\n",
    "\n",
    "# Define a dictionary to map cell types to colors\n",
    "E14_cell_type_colors = {\n",
    "    'Immature neurons': 'red',\n",
    "    'Progenitor cells': 'orange',\n",
    "    'Neurons': 'blue',\n",
    "    'Interneurons': 'green',\n",
    "    'Pericytes': 'purple',\n",
    "    'Cajal-Retzius cells': 'cyan',\n",
    "    'Endothelial cells': 'magenta',\n",
    "    'Microglial cells': 'yellow',\n",
    "    'Astrocytes': 'brown',\n",
    "}\n",
    "\n",
    "for age_tag in data.obs[\"age\"].unique():\n",
    "    for sample_tag in data.obs[\"condition\"].unique():\n",
    "        subset_data = data[data.obs[\"condition\"] == sample_tag]\n",
    "        subset_data.obs['cell_type'] = subset_data.obs['leiden'].map(cluster_cell_type_dict_combined[age_tag])\n",
    "        # Map the cell types to colors\n",
    "        subset_data.uns['E14_cell_type_colors'] = {cell_type: E14_cell_type_colors[cell_type] for cell_type in subset_data.obs['cell_type'].unique()}\n",
    "        sc.pl.umap(subset_data, color=['cell_type'], title=age_tag + ' ' + sample_tag + ' Cell Types', frameon=False, palette = E14_cell_type_colors)\n",
    "        #snap.pl.umap(subset_data, color=['cell_type'])"
   ]
  },
  {
   "cell_type": "markdown",
   "id": "e81a9360-0152-4c0b-966e-4aa3cf1d8b56",
   "metadata": {},
   "source": [
    "### Manual Annotation"
   ]
  },
  {
   "cell_type": "code",
   "execution_count": null,
   "id": "5fdbbe01-6b02-4c1f-b8a7-36c311e03b5d",
   "metadata": {},
   "outputs": [],
   "source": [
    "markers = {\n",
    "    \"AQP4\": [\"Astrocytes\"],\n",
    "    \"GJA1\": [\"Astrocytes\"],\n",
    "    \"FOXJ1\": [\"Astrocytes\"],\n",
    "    \"Slc8a1\": [\"Astrocytes\"],\n",
    "    \"Slc1a2\": [\"Astrocytes\"],\n",
    "    \"GFAP\": [\"Astrocytes\"],\n",
    "    \"Aqp4\": [\"Astrocytes\"],\n",
    "    \"Aldh1l1\": [\"Astrocytes\"],\n",
    "    \"Olig1\": [\"Astrocytes\",\"Oligodendrocytes\"],\n",
    "    \"Olig2\": [\"Astrocytes\",\"Oligodendrocytes\"],\n",
    "    \"Qk\": [\"Oligodendrocyte progenitor cells\", \"Oligodendrocytes\"],\n",
    "    \n",
    "    \"Pax6\": [\"Radial glial cells\"],\n",
    "    \"FABP7\": [\"Radial glial cells\"],\n",
    "    \"VIM\": [\"Radial glial cells\"],\n",
    "    \"NES\": [\"Radial glial cells\"],\n",
    "    \"Sox2\": [\"Radial glial cells\"],\n",
    "    \"Hes1\": [\"Radial glial cells\"],\n",
    "    \"Hes5\": [\"Radial glial cells\"],\n",
    "    \"Ednrb\": [\"Radial glial cells\"],\n",
    "    \"Sptbn1\": [\"Radial glial cells\"],\n",
    "    \"A2B5\": [\"Glial progenitor cells\"],\n",
    "    \n",
    "    \"Neurod6\": [\"Excitatory neurons\"],\n",
    "    \"Grin2b\": [\"Excitatory neurons\"],\n",
    "    \"Slc2a1\": [\"Excitatory neurons\"],\n",
    "    \"Gria4\": [\"Excitatory neurons\"],\n",
    "    \"Slc1a3\": [\"Excitatory neurons\"],\n",
    "    \"Dlg2\": [\"Excitatory neurons\"],\n",
    "    \"Slc6a1\": [\"Excitatory neurons\"],\n",
    "    \"Bcl11b\": [\"Excitatory neurons\", \"Neural progenitor cells\"],\n",
    "    \"Erbb4\": [\"Excitatory neurons\", \"GABAergic cells\", \"Interneurons\"],\n",
    "    \"Nrxn1\": [\"Excitatory neurons\", \"Inhibitory interneurons\"],\n",
    "    \"Celf2\": [\"Excitatory neurons\", \"Inhibitory neurons\"],\n",
    "    \"Rims2\": [\"Excitatory neurons\", \"Inhibitory neurons\"],\n",
    "    \"Ank3\": [\"Excitatory neurons\", \"Inhibitory neurons\"],\n",
    "    \"Dlx1\": [\"Excitatory neurons\", \"Inhibitory neurons\"],\n",
    "    \"Erc2\": [\"Excitatory neurons\", \"Inhibitory neurons\"],\n",
    "    \"Nrxn3\": [\"Excitatory neurons\", \"Inhibitory neurons\"],\n",
    "    \"Arpp21\": [\"Excitatory neurons\", \"Inhibitory neurons\"],\n",
    "    \n",
    "    \"Gad1\": [\"Inhibitory neurons\"],\n",
    "    \"Gad2\": [\"Inhibitory neurons\"],\n",
    "    \"Calb2\": [\"Inhibitory neurons\"],\n",
    "    \"Isl1\": [\"Inhibitory neurons\"],\n",
    "    \"Gpr88\": [\"Inhibitory neurons\"],\n",
    "\n",
    "    \"Tcf7l2\": [\"Thalamus\"],\n",
    "    \"Syt13\": [\"Thalamus\"],\n",
    "    \n",
    "    \"Trem2\": [\"Microglial cells\"],\n",
    "    \"CD163\": [\"Microglial cells\"],\n",
    "    \"TYROBP\": [\"Microglial cells\"],\n",
    "    \"DOCK8\": [\"Microglial cells\"],\n",
    "    \"GZMB\": [\"Microglial cells\"],\n",
    "    \"FCN1\": [\"Microglial cells\"],\n",
    "    \"TMEM119\": [\"Microglial cells\"],\n",
    "    \"Aif1\": [\"Microglial cells\"],\n",
    "    \"Iba-1\": [\"Microglial cells\"],\n",
    "    \"Cx3cr1\": [\"Microglial cells\"],\n",
    "    \"Cd68\": [\"Microglial cells\"],\n",
    "    \"C1qb\": [\"Microglial cells\"],\n",
    "    \"Apoe\": [\"Microglial cells\"],\n",
    "   \n",
    "    \"Reln\": [\"Cajal-Retzius cells\"],\n",
    "    \"Trp73\": [\"Cajal-Retzius cells\"],\n",
    "    \"Lhx1\": [\"Cajal-Retzius cells\"],\n",
    "    \"Lhx5\": [\"Cajal-Retzius cells\"],\n",
    "    \"Nrg1\": [\"Cajal-Retzius cells\"],\n",
    "    \"Fat3\": [\"Cajal-Retzius cells\"],\n",
    "    \"Rspo1-3\": [\"Cajal-Retzius cells\"],\n",
    "    \"Dkk3\": [\"Cajal-Retzius cells\"],\n",
    "    \"Vim\": [\"Cajal-Retzius cells\"],\n",
    "    \n",
    "    \"Int1\": [\"Interneurons\"],\n",
    "    \"Int2\": [\"Interneurons\"],\n",
    "    \"Int3\": [\"Interneurons\"],\n",
    "    \"Int4\": [\"Interneurons\"],\n",
    "    \"Lhx6\": [\"Interneurons\"],\n",
    "    \"Prox1\": [\"Interneurons\"],\n",
    "    \"Sp9\": [\"Interneurons\"],\n",
    "    \"Tiam2\": [\"Interneurons\"],\n",
    "    \"Sox6\": [\"Interneurons\"],\n",
    "    \"Dlx5\": [\"Interneurons\"],\n",
    "\n",
    "    \"Cldn5\": [\"Endothelial cells\"],\n",
    "    \"Flt1\": [\"Endothelial cells\"],\n",
    "    \"Ramp2\": [\"Endothelial cells\"],\n",
    "    \"Fli1\": [\"Endothelial cells\"],\n",
    "    \"Ptprm\": [\"Endothelial cells\"],\n",
    "    \"Igfbp7\": [\"Endothelial cells\"],\n",
    "    \n",
    "    \"Zfp521\": [\"Neural stem cells\"], \n",
    "    \"Mki67\": [\"Neural stem cells\"],\n",
    "    \"Top2a\": [\"Neural stem cells\"],\n",
    "    \"Kif15\": [\"Neural stem cells\"],\n",
    "    \"Rmst\": [ \"Neural stem cells\"],\n",
    "    \"Nestin\": [\"Neural stem cells\"],\n",
    "    \"Sox2\": [\"Neural stem cells\"],\n",
    "    \"Sox9\": [\"Neural stem cells\"],\n",
    "    \"Sema3c\": [\"Neural stem cells\"],\n",
    "    \"Ptprd\": [\"Neural stem cells\"],\n",
    "               \n",
    "    \"Bmp2\": [\"Neural progenitor cells\"],\n",
    "    \"Eomes\": [\"Neural progenitor cells\"],\n",
    "    \"Phip\": [\"Neural progenitor cells\"],\n",
    "    \"Ctip2\": [\"Neural progenitor cells\"],\n",
    "    \"Lmx1a\": [\"Neural progenitor cells\"],\n",
    "    \"Auts2\": [\"Neural progenitor cells\"], # transcriptional target of Tbr1 in developing neocortex\n",
    "    \"Ctnna2\": [\"Neural progenitor cells\"],\n",
    "    \"Chd7\": [\"Neural progenitor cells\"],\n",
    "    \"Cbfa2t2\": [\"Neural progenitor cells\"],\n",
    "    \"Tcf12\": [\"Neural progenitor cells\"],\n",
    "    \"Pbx3\": [\"Neural progenitor cells\"],\n",
    "    \"Meis2\": [\"Neural progenitor cells\"],\n",
    "    \"Cenpf\": [\"Neural progenitor cells\"],\n",
    "    \"Dach1\": [\"Neural progenitor cells\"],\n",
    "    \"Sox5\": [\"Neural progenitor cells\"],\n",
    "    \"Gli3\": [\"Neural progenitor cells\"],\n",
    "    \"Tcf4\": [\"Neural progenitor cells\"],\n",
    "    \"Nfia\": [\"Neural progenitor cells\"],\n",
    "    \"Rbfox1\": [\"Neural progenitor cells\"],\n",
    "    \"Tnc\": [\"Neural progenitor cells\"],\n",
    "    \"Maml3\": [\"Neural progenitor cells\", \"Radial glial cells\"],\n",
    "    \"Cep112\": [\"Neural progenitor cells\", \"Radial glial cells\"],\n",
    "    \"Msi2\": [\"Neural stem cells\", \"Neural progenitor cells\"],\n",
    "    \"Wdr17\": [\"Neural progenitor cells\", \"Radial glial cells\"],\n",
    "    \"Ptn\": [\"Neural progenitor cells\", \"Migrating neurons\", \"Differentiating neurons\"],\n",
    "    \"Ebf1\": [\"Neural progenitor cells\", \"Differentiating neurons\"],\n",
    "    \"Rarb\": [\"Neural progenitor cells\", \"Differentiating neurons\", \"Glial cells\"],\n",
    "    \"Zbtb20\": [\"Neural progenitor cells\", \"Differentiating neurons\", \"Glial cells\"],\n",
    "    \"Etl4\": [\"Neural progenitor cells\", \"Differentiating neurons\"],\n",
    "    \"Cdon\": [\"Neural progenitor cells\", \"Migrating neurons\", \"Differentiating neurons\"],\n",
    "    \"Fam155a\": [\"Neural progenitor cells\", \"Differentiating neurons\"],\n",
    "    \"Nrg3\": [\"Neural progenitor cells\", \"Migrating neurons\", \"Neural stem cells\"],\n",
    "    \"Tbr1\": [\"Intermediate progenitor cells\"],\n",
    "    \n",
    "    \"Mef2c\": [\"Neurons\"],\n",
    "    \"Plxna4\": [\"Neurons\"],\n",
    "    \"Tuba1a\": [\"Neurons\"],\n",
    "    \"Ccnd2\": [\"Neurons\"],\n",
    "    \"Rnf220\": [\"Neurons\"],\n",
    "    \"Thsd7a\": [\"Neurons\"],\n",
    "    \"Ntng1\": [\"Neurons\"],\n",
    "    \"Zfpm2\": [\"Neurons\"],\n",
    "    \"Frmd4b\": [\"Neurons\"],\n",
    "    \"Mllt3\": [\"Neurons\"],\n",
    "    \"Slc17a6\":[\"Neurons\"],\n",
    "    \"Satb2\": [\"Neurons\"],\n",
    "    \"Pou3fl\": [\"Neurons\"],\n",
    "    \"Nrgn\": [\"Neurons\"],\n",
    "    \"RBFOX3\": [\"Neurons\"],\n",
    "    \"Nav3\": [\"Neurons\"],\n",
    "    \"Kcnq3\": [\"Neurons\"],\n",
    "    \"Map2\": [\"Neurons\"],\n",
    "    \"Tafa2\": [\"Neurons\"],\n",
    "    \"Tuj1\": [\"Neurons\"],\n",
    "    \"Inhba\": [\"Neurons\"],\n",
    "    \"Ascl1\": [\"Neurons\"],\n",
    "    \"Pvrl3\": [\"Neurons\"],\n",
    "    \"Elavl2\": [\"Neurons\"],\n",
    "    \"Adgrv1\": [\"Neurons\"],\n",
    "    \"Grip1\": [\"Neurons\"],\n",
    "    \"Aff3\": [\"Neurons\"],\n",
    "    \"Pam\": [\"Neurons\"],\n",
    "    \"Ctnna2\": [\"Neurons\",\"Neural progenitor cells\", \"Radial glial cells\"],\n",
    "    \"Adgrl3\": [\"Neurons\", \"Astrocytes\", \"Oligodendrocytes\"],\n",
    "    \"Tafa1\": [\"Neurons\", \"Glial cells\"],\n",
    "    \"Dner\": [\"Neural progenitor cells\", \"Radial glial cells\", \"Neurons\"],\n",
    "    \"Enox1\": [\"Neurons\", \"Glial cells\"],\n",
    "    \"Foxp1\": [\"Neurons\", \"Astrocytes\", \"Oligodendrocytes\"],\n",
    "    \"Robo2\": [\"Neurons\", \"Glial cells\"],\n",
    "    \"Lsamp\": [\"Neurons\", \"Radial glial cells\"],\n",
    "    \"Epha3\": [\"Neurons\", \"Glial cells\"],\n",
    "    \"Arhgap6\": [\"Neurons\", \"Glial cells\"],\n",
    "    \"Mdk\": [\"Neurons\", \"Glial cells\"],\n",
    "    \"Diaph3\": [\"Neurons\", \"Glial cells\"],\n",
    "    \"Frmd4a\": [\"Neurons\", \"Glial cells\"],\n",
    "    \"Ptprk\": [\"Neurons\", \"Glial cells\"],\n",
    "    \"Mdga2\": [\"Neurons\", \"Glial cells\"],\n",
    "    \"Ptprg\": [\"Neurons\", \"Glial cells\"],\n",
    "    \"H2afz\": [\"Neurons\", \"Glial cells\"],\n",
    "    \"Hmgb2\": [\"Neurons\", \"Glial cells\"],\n",
    "    \"Ccser1\": [\"Neurons\", \"Glial cells\"],\n",
    "    \"Epha5\": [\"Neurons\", \"Glial cells\"],\n",
    "    \"Rora\": [\"Neurons\", \"Glial cells\"],\n",
    "    \"Fbxl7\": [\"Neurons\", \"Glial cells\"],\n",
    "    \"Cped1\": [\"Neurons\", \"Glial cells\"],\n",
    "    \"Opcml\": [\"Neurons\", \"Glial cells\"],\n",
    "    \"Sdk1\": [\"Neurons\", \"Glial cells\"],\n",
    "    \"Colec12\": [\"Neurons\", \"Glial cells\"],\n",
    "    \"Ror1\": [\"Neurons\", \"Glial cells\"],\n",
    "    \"Lhfpl3\": [\"Neurons\", \"Glial cells\"],\n",
    "    \"Maml2\": [\"Neurons\", \"Glial cells\"],\n",
    "    \"Npas3\": [\"Neurons\", \"Glial cells\"],\n",
    "    \"Dlc1\": [\"Neurons\", \"Glial cells\"],\n",
    "    \"Prkg1\": [\"Neurons\", \"Glial cells\"],\n",
    "    \"Itga1\": [\"Neurons\", \"Glial cells\"],\n",
    "    \"Cald1\": [\"Neurons\", \"Glial cells\"],  # cell motility\n",
    "    \"Plcl1\": [\"Neurons\", \"Glial cells\"],\n",
    "    \"Mbnl1\": [\"Neurons\", \"Glial cells\"],\n",
    "    \"Lgmn\": [\"Neurons\", \"Glial cells\"],\n",
    "    \"Slc9a9\": [\"Neurons\", \"Glial cells\"],\n",
    "    \"Maf\": [\"Neurons\", \"Glial cells\"],  # differentiation\n",
    "    \"Igfbpl1\": [\"Neurons\", \"Glial cells\"],\n",
    "    \"Ccser1\": [\"Neurons\", \"Glial cells\"],\n",
    "    \"Creb5\": [\"Neurons\", \"Glial cells\"],\n",
    "    \"Plcb1\": [\"Neurons\", \"Glial cells\"],\n",
    "    \"Cacna2d1\": [\"Neurons\", \"Glial cells\"],\n",
    "    \"Nxph1\": [\"Neurons\", \"Glial cells\"],\n",
    "    \"Dlgap2\": [\"Neurons\"],  # postsynaptic densities\n",
    "    \"Rbms3\": [\"Neurons\", \"Glial cells\"],\n",
    "    \"Nfib\": [\"Neurons\", \"Glial cells\"],  # differentiation and migration\n",
    "    \"Adarb2\": [\"Neurons\", \"Glial cells\"],\n",
    "    \"Dlx6os1\": [\"Neural progenitor cells\", \"Differentiating neurons\"],\n",
    "    \"Celf4\": [\"Neurons\", \"Glial cells\"],\n",
    "    \"Setbp1\": [\"Neural progenitor cells\", \"Differentiating neurons\"],\n",
    "    \"Magi1\": [\"Neurons\", \"Glial cells\"],\n",
    "    \"Msra\": [\"Neurons\", \"Glial cells\"],\n",
    "    \"Trim2\": [\"Neurons\", \"Glial cells\"],\n",
    "    \"Ptprz1\": [\"Neurons\", \"Glial cells\"],\n",
    "    \"Nrp1\": [\"Neurons\", \"Glial cells\", \"Endothelial cells\"],\n",
    "\n",
    "    \"Nsd1\": [\"Gene of interest\"],\n",
    "    \"Hbb-bs\": [\"Red blood cells\"],\n",
    "    \"Actb\": [\"Housekeeping gene\"],\n",
    "    \"Gadph\": [\"Housekeeping gene\"],\n",
    "\n",
    "    \"Ubb\": [\"Dying cells\"],\n",
    "    \"Cmss1\": [\"Dying cells\"],  # apoptosis, ubiquitination, and cell death\n",
    "    \"Cst3\": [\"Dying cells\"],\n",
    "    \"Hspa8\": [\"Dying cells\"],\n",
    "    \n",
    "}"
   ]
  }
 ],
 "metadata": {
  "kernelspec": {
   "display_name": "Python 3 (ipykernel)",
   "language": "python",
   "name": "python3"
  },
  "language_info": {
   "codemirror_mode": {
    "name": "ipython",
    "version": 3
   },
   "file_extension": ".py",
   "mimetype": "text/x-python",
   "name": "python",
   "nbconvert_exporter": "python",
   "pygments_lexer": "ipython3",
   "version": "3.10.13"
  }
 },
 "nbformat": 4,
 "nbformat_minor": 5
}
