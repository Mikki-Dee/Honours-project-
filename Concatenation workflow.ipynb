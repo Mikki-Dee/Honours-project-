{
 "cells": [
  {
   "cell_type": "code",
   "execution_count": 1,
   "id": "91527a06",
   "metadata": {},
   "outputs": [],
   "source": [
    "from pathlib import Path\n",
    "\n",
    "import pandas as pd\n",
    "import scanpy as sc\n",
    "from scipy.io import mmwrite"
   ]
  },
  {
   "cell_type": "code",
   "execution_count": 17,
   "id": "728c9117-b70c-41ee-9bfd-d5d5b2cd9e17",
   "metadata": {},
   "outputs": [],
   "source": [
    "pipe_folders = (\n",
    "    Path(\"./data/PIPE-0011-ATAC+GEX_counts\"),\n",
    "    Path(\"./data/PIPE-0010-ATAC+GEX_counts\"),\n",
    ")"
   ]
  },
  {
   "cell_type": "code",
   "execution_count": 18,
   "id": "981c0d0c-1387-4a85-9e88-b7d40632273c",
   "metadata": {},
   "outputs": [
    {
     "data": {
      "text/plain": [
       "{}"
      ]
     },
     "execution_count": 18,
     "metadata": {},
     "output_type": "execute_result"
    }
   ],
   "source": [
    "# Load all the CellBender-adjusted count matrices\n",
    "datas = {\n",
    "    cellbent_filtered_matrix_path: sc.read_10x_h5(cellbent_filtered_matrix_path)\n",
    "    for pipe_folder in pipe_folders\n",
    "    for cellbent_filtered_matrix_path in pipe_folder.glob(\"**/cellbent_filtered.h5\")\n",
    "}\n",
    "datas"
   ]
  },
  {
   "cell_type": "code",
   "execution_count": 6,
   "id": "5e195cc7-c6b9-41dc-8023-2cd3d1f2f869",
   "metadata": {},
   "outputs": [],
   "source": [
    "# Map in the ATAC barcodes\n",
    "for k, v in datas.items():\n",
    "    v.obs[\"atac_barcode\"] = pd.read_csv(\n",
    "        k.parent / \"per_barcode_metrics.csv\",\n",
    "        usecols=[\"atac_barcode\", \"gex_barcode\"],\n",
    "    ).set_index(\"gex_barcode\")[\"atac_barcode\"]"
   ]
  },
  {
   "cell_type": "code",
   "execution_count": 7,
   "id": "903f9416-5a4d-4d30-842d-303904187ddb",
   "metadata": {},
   "outputs": [],
   "source": [
    "# Drop the Amulet-called-multiplets, also print out the count\n",
    "for k, v in datas.items():\n",
    "    multiplets = (\n",
    "        (k.parent / \"amulet\" / \"MultipletBarcodes_01.txt\").read_text().splitlines()\n",
    "    )\n",
    "    print(k, len(multiplets))\n",
    "    v = v[~v.obs.index.isin(multiplets)]"
   ]
  },
  {
   "cell_type": "code",
   "execution_count": 8,
   "id": "28401b22-310e-4465-8937-98770f37ee64",
   "metadata": {},
   "outputs": [],
   "source": [
    "# Load the corresponding raw count matrix and add this as a layer\n",
    "for k, v in datas.items():\n",
    "    raw_counts = sc.read_10x_h5(k.parent / \"raw_feature_bc_matrix.h5\")\n",
    "    v.layers[\"raw\"] = raw_counts[v.obs.index].X"
   ]
  },
  {
   "cell_type": "code",
   "execution_count": 9,
   "id": "4b929f5f-711f-4e24-9c79-66a872c3e639",
   "metadata": {},
   "outputs": [],
   "source": [
    "# Prefix barcodes using the sample tag (e.g., \"E14_WT_2\")\n",
    "for k, v in datas.items():\n",
    "    sample_tag = k.parent.parent.stem\n",
    "    sample_tag = sample_tag.replace(\"WT\", \"Wt\").replace(\"Wt\", \"Con\")\n",
    "    if sample_tag.startswith((\"Hom\", \"Con\")):\n",
    "        # We have an E18 sample that wasn't prefixed in cellranger-arc\n",
    "        sample_tag = \"E18_\" + sample_tag\n",
    "\n",
    "    v.obs.index = sample_tag + \":\" + v.obs.index\n",
    "    v.obs[\"atac_barcode\"] = sample_tag + \":\" + v.obs[\"atac_barcode\"]\n",
    "    v.obs[\"sample\"] = sample_tag\n",
    "    v.obs[[\"age\", \"condition\", \"replicate\"]] = sample_tag.split(\"_\")"
   ]
  },
  {
   "cell_type": "code",
   "execution_count": 10,
   "id": "bcf37c7a-20b4-4168-8d39-0982bf208b75",
   "metadata": {},
   "outputs": [
    {
     "data": {
      "text/plain": [
       "{}"
      ]
     },
     "execution_count": 10,
     "metadata": {},
     "output_type": "execute_result"
    }
   ],
   "source": [
    "# Check for duplicated gene shorthands\n",
    "{k: v.var[v.var.index.duplicated(keep=False)] for k, v in datas.items()}"
   ]
  },
  {
   "cell_type": "code",
   "execution_count": 11,
   "id": "fca4984d",
   "metadata": {},
   "outputs": [],
   "source": [
    "# Suffix duplicate var indices (gene shorthands)\n",
    "for k, v in datas.items():\n",
    "    v.var_names_make_unique()"
   ]
  },
  {
   "cell_type": "code",
   "execution_count": 12,
   "id": "e69c1a31-851a-4103-b190-9185995539bc",
   "metadata": {},
   "outputs": [
    {
     "data": {
      "text/plain": [
       "{}"
      ]
     },
     "execution_count": 12,
     "metadata": {},
     "output_type": "execute_result"
    }
   ],
   "source": [
    "# Check that we no longer have duplicate gene names\n",
    "{k: v.var[v.var.index.duplicated(keep=False)] for k, v in datas.items()}"
   ]
  },
  {
   "cell_type": "code",
   "execution_count": 13,
   "id": "0f1fb93c",
   "metadata": {},
   "outputs": [
    {
     "data": {
      "text/plain": [
       "{}"
      ]
     },
     "execution_count": 13,
     "metadata": {},
     "output_type": "execute_result"
    }
   ],
   "source": [
    "# Make sure we don't have any duplicated `obs` barcodes in any samples\n",
    "{k: v.obs[v.obs.index.duplicated(keep=False)] for k, v in datas.items()}"
   ]
  },
  {
   "cell_type": "code",
   "execution_count": 14,
   "id": "aae6ecd1",
   "metadata": {},
   "outputs": [
    {
     "ename": "ValueError",
     "evalue": "No objects to concatenate",
     "output_type": "error",
     "traceback": [
      "\u001b[0;31m---------------------------------------------------------------------------\u001b[0m",
      "\u001b[0;31mValueError\u001b[0m                                Traceback (most recent call last)",
      "Cell \u001b[0;32mIn[14], line 1\u001b[0m\n\u001b[0;32m----> 1\u001b[0m concatted_data \u001b[38;5;241m=\u001b[39m \u001b[43msc\u001b[49m\u001b[38;5;241;43m.\u001b[39;49m\u001b[43mconcat\u001b[49m\u001b[43m(\u001b[49m\u001b[43mdatas\u001b[49m\u001b[38;5;241;43m.\u001b[39;49m\u001b[43mvalues\u001b[49m\u001b[43m(\u001b[49m\u001b[43m)\u001b[49m\u001b[43m,\u001b[49m\u001b[43m \u001b[49m\u001b[43mjoin\u001b[49m\u001b[38;5;241;43m=\u001b[39;49m\u001b[38;5;124;43m\"\u001b[39;49m\u001b[38;5;124;43mouter\u001b[39;49m\u001b[38;5;124;43m\"\u001b[39;49m\u001b[43m,\u001b[49m\u001b[43m \u001b[49m\u001b[43mmerge\u001b[49m\u001b[38;5;241;43m=\u001b[39;49m\u001b[38;5;124;43m\"\u001b[39;49m\u001b[38;5;124;43msame\u001b[39;49m\u001b[38;5;124;43m\"\u001b[39;49m\u001b[43m)\u001b[49m\n\u001b[1;32m      2\u001b[0m concatted_data\n",
      "File \u001b[0;32m~/.pyenv/versions/3.10.13/envs/honours/lib/python3.10/site-packages/anndata/_core/merge.py:1260\u001b[0m, in \u001b[0;36mconcat\u001b[0;34m(adatas, axis, join, merge, uns_merge, label, keys, index_unique, fill_value, pairwise)\u001b[0m\n\u001b[1;32m   1254\u001b[0m label_col \u001b[38;5;241m=\u001b[39m pd\u001b[38;5;241m.\u001b[39mCategorical\u001b[38;5;241m.\u001b[39mfrom_codes(\n\u001b[1;32m   1255\u001b[0m     np\u001b[38;5;241m.\u001b[39mrepeat(np\u001b[38;5;241m.\u001b[39marange(\u001b[38;5;28mlen\u001b[39m(adatas)), [a\u001b[38;5;241m.\u001b[39mshape[axis] \u001b[38;5;28;01mfor\u001b[39;00m a \u001b[38;5;129;01min\u001b[39;00m adatas]),\n\u001b[1;32m   1256\u001b[0m     categories\u001b[38;5;241m=\u001b[39mkeys,\n\u001b[1;32m   1257\u001b[0m )\n\u001b[1;32m   1259\u001b[0m \u001b[38;5;66;03m# Combining indexes\u001b[39;00m\n\u001b[0;32m-> 1260\u001b[0m concat_indices \u001b[38;5;241m=\u001b[39m \u001b[43mpd\u001b[49m\u001b[38;5;241;43m.\u001b[39;49m\u001b[43mconcat\u001b[49m\u001b[43m(\u001b[49m\n\u001b[1;32m   1261\u001b[0m \u001b[43m    \u001b[49m\u001b[43m[\u001b[49m\u001b[43mpd\u001b[49m\u001b[38;5;241;43m.\u001b[39;49m\u001b[43mSeries\u001b[49m\u001b[43m(\u001b[49m\u001b[43mdim_indices\u001b[49m\u001b[43m(\u001b[49m\u001b[43ma\u001b[49m\u001b[43m,\u001b[49m\u001b[43m \u001b[49m\u001b[43maxis\u001b[49m\u001b[38;5;241;43m=\u001b[39;49m\u001b[43maxis\u001b[49m\u001b[43m)\u001b[49m\u001b[43m)\u001b[49m\u001b[43m \u001b[49m\u001b[38;5;28;43;01mfor\u001b[39;49;00m\u001b[43m \u001b[49m\u001b[43ma\u001b[49m\u001b[43m \u001b[49m\u001b[38;5;129;43;01min\u001b[39;49;00m\u001b[43m \u001b[49m\u001b[43madatas\u001b[49m\u001b[43m]\u001b[49m\u001b[43m,\u001b[49m\u001b[43m \u001b[49m\u001b[43mignore_index\u001b[49m\u001b[38;5;241;43m=\u001b[39;49m\u001b[38;5;28;43;01mTrue\u001b[39;49;00m\n\u001b[1;32m   1262\u001b[0m \u001b[43m\u001b[49m\u001b[43m)\u001b[49m\n\u001b[1;32m   1263\u001b[0m \u001b[38;5;28;01mif\u001b[39;00m index_unique \u001b[38;5;129;01mis\u001b[39;00m \u001b[38;5;129;01mnot\u001b[39;00m \u001b[38;5;28;01mNone\u001b[39;00m:\n\u001b[1;32m   1264\u001b[0m     concat_indices \u001b[38;5;241m=\u001b[39m concat_indices\u001b[38;5;241m.\u001b[39mstr\u001b[38;5;241m.\u001b[39mcat(\n\u001b[1;32m   1265\u001b[0m         _map_cat_to_str(label_col), sep\u001b[38;5;241m=\u001b[39mindex_unique\n\u001b[1;32m   1266\u001b[0m     )\n",
      "File \u001b[0;32m~/.pyenv/versions/3.10.13/envs/honours/lib/python3.10/site-packages/pandas/util/_decorators.py:331\u001b[0m, in \u001b[0;36mdeprecate_nonkeyword_arguments.<locals>.decorate.<locals>.wrapper\u001b[0;34m(*args, **kwargs)\u001b[0m\n\u001b[1;32m    325\u001b[0m \u001b[38;5;28;01mif\u001b[39;00m \u001b[38;5;28mlen\u001b[39m(args) \u001b[38;5;241m>\u001b[39m num_allow_args:\n\u001b[1;32m    326\u001b[0m     warnings\u001b[38;5;241m.\u001b[39mwarn(\n\u001b[1;32m    327\u001b[0m         msg\u001b[38;5;241m.\u001b[39mformat(arguments\u001b[38;5;241m=\u001b[39m_format_argument_list(allow_args)),\n\u001b[1;32m    328\u001b[0m         \u001b[38;5;167;01mFutureWarning\u001b[39;00m,\n\u001b[1;32m    329\u001b[0m         stacklevel\u001b[38;5;241m=\u001b[39mfind_stack_level(),\n\u001b[1;32m    330\u001b[0m     )\n\u001b[0;32m--> 331\u001b[0m \u001b[38;5;28;01mreturn\u001b[39;00m \u001b[43mfunc\u001b[49m\u001b[43m(\u001b[49m\u001b[38;5;241;43m*\u001b[39;49m\u001b[43margs\u001b[49m\u001b[43m,\u001b[49m\u001b[43m \u001b[49m\u001b[38;5;241;43m*\u001b[39;49m\u001b[38;5;241;43m*\u001b[39;49m\u001b[43mkwargs\u001b[49m\u001b[43m)\u001b[49m\n",
      "File \u001b[0;32m~/.pyenv/versions/3.10.13/envs/honours/lib/python3.10/site-packages/pandas/core/reshape/concat.py:368\u001b[0m, in \u001b[0;36mconcat\u001b[0;34m(objs, axis, join, ignore_index, keys, levels, names, verify_integrity, sort, copy)\u001b[0m\n\u001b[1;32m    146\u001b[0m \u001b[38;5;129m@deprecate_nonkeyword_arguments\u001b[39m(version\u001b[38;5;241m=\u001b[39m\u001b[38;5;28;01mNone\u001b[39;00m, allowed_args\u001b[38;5;241m=\u001b[39m[\u001b[38;5;124m\"\u001b[39m\u001b[38;5;124mobjs\u001b[39m\u001b[38;5;124m\"\u001b[39m])\n\u001b[1;32m    147\u001b[0m \u001b[38;5;28;01mdef\u001b[39;00m \u001b[38;5;21mconcat\u001b[39m(\n\u001b[1;32m    148\u001b[0m     objs: Iterable[NDFrame] \u001b[38;5;241m|\u001b[39m Mapping[HashableT, NDFrame],\n\u001b[0;32m   (...)\u001b[0m\n\u001b[1;32m    157\u001b[0m     copy: \u001b[38;5;28mbool\u001b[39m \u001b[38;5;241m=\u001b[39m \u001b[38;5;28;01mTrue\u001b[39;00m,\n\u001b[1;32m    158\u001b[0m ) \u001b[38;5;241m-\u001b[39m\u001b[38;5;241m>\u001b[39m DataFrame \u001b[38;5;241m|\u001b[39m Series:\n\u001b[1;32m    159\u001b[0m \u001b[38;5;250m    \u001b[39m\u001b[38;5;124;03m\"\"\"\u001b[39;00m\n\u001b[1;32m    160\u001b[0m \u001b[38;5;124;03m    Concatenate pandas objects along a particular axis.\u001b[39;00m\n\u001b[1;32m    161\u001b[0m \n\u001b[0;32m   (...)\u001b[0m\n\u001b[1;32m    366\u001b[0m \u001b[38;5;124;03m    1   3   4\u001b[39;00m\n\u001b[1;32m    367\u001b[0m \u001b[38;5;124;03m    \"\"\"\u001b[39;00m\n\u001b[0;32m--> 368\u001b[0m     op \u001b[38;5;241m=\u001b[39m \u001b[43m_Concatenator\u001b[49m\u001b[43m(\u001b[49m\n\u001b[1;32m    369\u001b[0m \u001b[43m        \u001b[49m\u001b[43mobjs\u001b[49m\u001b[43m,\u001b[49m\n\u001b[1;32m    370\u001b[0m \u001b[43m        \u001b[49m\u001b[43maxis\u001b[49m\u001b[38;5;241;43m=\u001b[39;49m\u001b[43maxis\u001b[49m\u001b[43m,\u001b[49m\n\u001b[1;32m    371\u001b[0m \u001b[43m        \u001b[49m\u001b[43mignore_index\u001b[49m\u001b[38;5;241;43m=\u001b[39;49m\u001b[43mignore_index\u001b[49m\u001b[43m,\u001b[49m\n\u001b[1;32m    372\u001b[0m \u001b[43m        \u001b[49m\u001b[43mjoin\u001b[49m\u001b[38;5;241;43m=\u001b[39;49m\u001b[43mjoin\u001b[49m\u001b[43m,\u001b[49m\n\u001b[1;32m    373\u001b[0m \u001b[43m        \u001b[49m\u001b[43mkeys\u001b[49m\u001b[38;5;241;43m=\u001b[39;49m\u001b[43mkeys\u001b[49m\u001b[43m,\u001b[49m\n\u001b[1;32m    374\u001b[0m \u001b[43m        \u001b[49m\u001b[43mlevels\u001b[49m\u001b[38;5;241;43m=\u001b[39;49m\u001b[43mlevels\u001b[49m\u001b[43m,\u001b[49m\n\u001b[1;32m    375\u001b[0m \u001b[43m        \u001b[49m\u001b[43mnames\u001b[49m\u001b[38;5;241;43m=\u001b[39;49m\u001b[43mnames\u001b[49m\u001b[43m,\u001b[49m\n\u001b[1;32m    376\u001b[0m \u001b[43m        \u001b[49m\u001b[43mverify_integrity\u001b[49m\u001b[38;5;241;43m=\u001b[39;49m\u001b[43mverify_integrity\u001b[49m\u001b[43m,\u001b[49m\n\u001b[1;32m    377\u001b[0m \u001b[43m        \u001b[49m\u001b[43mcopy\u001b[49m\u001b[38;5;241;43m=\u001b[39;49m\u001b[43mcopy\u001b[49m\u001b[43m,\u001b[49m\n\u001b[1;32m    378\u001b[0m \u001b[43m        \u001b[49m\u001b[43msort\u001b[49m\u001b[38;5;241;43m=\u001b[39;49m\u001b[43msort\u001b[49m\u001b[43m,\u001b[49m\n\u001b[1;32m    379\u001b[0m \u001b[43m    \u001b[49m\u001b[43m)\u001b[49m\n\u001b[1;32m    381\u001b[0m     \u001b[38;5;28;01mreturn\u001b[39;00m op\u001b[38;5;241m.\u001b[39mget_result()\n",
      "File \u001b[0;32m~/.pyenv/versions/3.10.13/envs/honours/lib/python3.10/site-packages/pandas/core/reshape/concat.py:425\u001b[0m, in \u001b[0;36m_Concatenator.__init__\u001b[0;34m(self, objs, axis, join, keys, levels, names, ignore_index, verify_integrity, copy, sort)\u001b[0m\n\u001b[1;32m    422\u001b[0m     objs \u001b[38;5;241m=\u001b[39m \u001b[38;5;28mlist\u001b[39m(objs)\n\u001b[1;32m    424\u001b[0m \u001b[38;5;28;01mif\u001b[39;00m \u001b[38;5;28mlen\u001b[39m(objs) \u001b[38;5;241m==\u001b[39m \u001b[38;5;241m0\u001b[39m:\n\u001b[0;32m--> 425\u001b[0m     \u001b[38;5;28;01mraise\u001b[39;00m \u001b[38;5;167;01mValueError\u001b[39;00m(\u001b[38;5;124m\"\u001b[39m\u001b[38;5;124mNo objects to concatenate\u001b[39m\u001b[38;5;124m\"\u001b[39m)\n\u001b[1;32m    427\u001b[0m \u001b[38;5;28;01mif\u001b[39;00m keys \u001b[38;5;129;01mis\u001b[39;00m \u001b[38;5;28;01mNone\u001b[39;00m:\n\u001b[1;32m    428\u001b[0m     objs \u001b[38;5;241m=\u001b[39m \u001b[38;5;28mlist\u001b[39m(com\u001b[38;5;241m.\u001b[39mnot_none(\u001b[38;5;241m*\u001b[39mobjs))\n",
      "\u001b[0;31mValueError\u001b[0m: No objects to concatenate"
     ]
    }
   ],
   "source": [
    "concatted_data = sc.concat(datas.values(), join=\"outer\", merge=\"same\")\n",
    "concatted_data"
   ]
  },
  {
   "cell_type": "code",
   "execution_count": 16,
   "id": "11a4f709-2aa4-4ade-86fc-9468ad53ddd1",
   "metadata": {},
   "outputs": [
    {
     "ename": "NameError",
     "evalue": "name 'concatted_data' is not defined",
     "output_type": "error",
     "traceback": [
      "\u001b[0;31m---------------------------------------------------------------------------\u001b[0m",
      "\u001b[0;31mNameError\u001b[0m                                 Traceback (most recent call last)",
      "Cell \u001b[0;32mIn[16], line 2\u001b[0m\n\u001b[1;32m      1\u001b[0m \u001b[38;5;66;03m# Check our `obs` barcodes are unique\u001b[39;00m\n\u001b[0;32m----> 2\u001b[0m \u001b[43mconcatted_data\u001b[49m\u001b[38;5;241m.\u001b[39mobs[concatted_data\u001b[38;5;241m.\u001b[39mobs\u001b[38;5;241m.\u001b[39mindex\u001b[38;5;241m.\u001b[39mduplicated(keep\u001b[38;5;241m=\u001b[39m\u001b[38;5;28;01mFalse\u001b[39;00m)]\n",
      "\u001b[0;31mNameError\u001b[0m: name 'concatted_data' is not defined"
     ]
    }
   ],
   "source": [
    "# Check our `obs` barcodes are unique\n",
    "concatted_data.obs[concatted_data.obs.index.duplicated(keep=False)]"
   ]
  },
  {
   "cell_type": "code",
   "execution_count": 15,
   "id": "9d39242c",
   "metadata": {},
   "outputs": [
    {
     "ename": "NameError",
     "evalue": "name 'concatted_data' is not defined",
     "output_type": "error",
     "traceback": [
      "\u001b[0;31m---------------------------------------------------------------------------\u001b[0m",
      "\u001b[0;31mNameError\u001b[0m                                 Traceback (most recent call last)",
      "Cell \u001b[0;32mIn[15], line 2\u001b[0m\n\u001b[1;32m      1\u001b[0m \u001b[38;5;66;03m# Add a column to var indicating if the gene is mitochondrial\u001b[39;00m\n\u001b[0;32m----> 2\u001b[0m concatted_data\u001b[38;5;241m.\u001b[39mvar[\u001b[38;5;124m\"\u001b[39m\u001b[38;5;124mmt\u001b[39m\u001b[38;5;124m\"\u001b[39m] \u001b[38;5;241m=\u001b[39m \u001b[43mconcatted_data\u001b[49m\u001b[38;5;241m.\u001b[39mvar_names\u001b[38;5;241m.\u001b[39mstr\u001b[38;5;241m.\u001b[39mstartswith(\u001b[38;5;124m\"\u001b[39m\u001b[38;5;124mmt-\u001b[39m\u001b[38;5;124m\"\u001b[39m)\n",
      "\u001b[0;31mNameError\u001b[0m: name 'concatted_data' is not defined"
     ]
    }
   ],
   "source": [
    "# Add a column to var indicating if the gene is mitochondrial\n",
    "concatted_data.var[\"mt\"] = concatted_data.var_names.str.startswith(\"mt-\")"
   ]
  },
  {
   "cell_type": "code",
   "execution_count": null,
   "id": "baa29802-e0e4-4d7d-987c-9ea824f7d1c7",
   "metadata": {},
   "outputs": [],
   "source": [
    "# Save just the count matrix and names for the R Azimuth workflow\n",
    "Path(\"./gex_barcodes.txt\").write_text(\"\\n\".join(concatted_data.obs_names))\n",
    "Path(\"./gex_gene_names.txt\").write_text(\"\\n\".join(concatted_data.var_names))\n",
    "mmwrite(\"./gex.mtx\", concatted_data.X.T)"
   ]
  },
  {
   "cell_type": "code",
   "execution_count": null,
   "id": "9f8c85a6",
   "metadata": {},
   "outputs": [],
   "source": [
    "concatted_data = sc.read(\"gex.h5ad\")"
   ]
  },
  {
   "cell_type": "code",
   "execution_count": null,
   "id": "f4e87662",
   "metadata": {},
   "outputs": [],
   "source": [
    "# Load in the Azimuth labels\n",
    "label_dfs = [\n",
    "    pd.read_csv(label_file, index_col=0).rename(\n",
    "        columns={\n",
    "            \"predicted.celltype\": f\"label_{label_file.stem}\",\n",
    "            \"predicted.celltype.score\": f\"label_{label_file.stem}_score\",\n",
    "        }\n",
    "    )\n",
    "    for label_file in Path(\"./azimuth/labels\").glob(\"*.csv\")\n",
    "]\n",
    "\n",
    "concatted_data.obs = concatted_data.obs.join(label_dfs)"
   ]
  },
  {
   "cell_type": "code",
   "execution_count": null,
   "id": "118963f3-6595-4d6e-9197-81d56cae7986",
   "metadata": {},
   "outputs": [],
   "source": [
    "# Save the AnnData object for the Python workflow\n",
    "concatted_data.write(\"gex.h5ad\")"
   ]
  },
  {
   "cell_type": "code",
   "execution_count": null,
   "id": "561399bb",
   "metadata": {},
   "outputs": [],
   "source": []
  }
 ],
 "metadata": {
  "kernelspec": {
   "display_name": "Python 3 (ipykernel)",
   "language": "python",
   "name": "python3"
  },
  "language_info": {
   "codemirror_mode": {
    "name": "ipython",
    "version": 3
   },
   "file_extension": ".py",
   "mimetype": "text/x-python",
   "name": "python",
   "nbconvert_exporter": "python",
   "pygments_lexer": "ipython3",
   "version": "3.10.13"
  }
 },
 "nbformat": 4,
 "nbformat_minor": 5
}
